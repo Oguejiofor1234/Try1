{
 "cells": [
  {
   "cell_type": "code",
   "execution_count": 3,
   "id": "6ba10fca",
   "metadata": {},
   "outputs": [],
   "source": [
    "import numpy as np\n",
    "import pandas as pd\n",
    "import seaborn as sns\n",
    "import matplotlib.pyplot as plt \n",
    "from sklearn.metrics import accuracy_score, classification_report,confusion_matrix\n"
   ]
  },
  {
   "cell_type": "code",
   "execution_count": 5,
   "id": "355ce513",
   "metadata": {},
   "outputs": [
    {
     "data": {
      "text/html": [
       "<div>\n",
       "<style scoped>\n",
       "    .dataframe tbody tr th:only-of-type {\n",
       "        vertical-align: middle;\n",
       "    }\n",
       "\n",
       "    .dataframe tbody tr th {\n",
       "        vertical-align: top;\n",
       "    }\n",
       "\n",
       "    .dataframe thead th {\n",
       "        text-align: right;\n",
       "    }\n",
       "</style>\n",
       "<table border=\"1\" class=\"dataframe\">\n",
       "  <thead>\n",
       "    <tr style=\"text-align: right;\">\n",
       "      <th></th>\n",
       "      <th>N</th>\n",
       "      <th>P</th>\n",
       "      <th>K</th>\n",
       "      <th>temperature</th>\n",
       "      <th>humidity</th>\n",
       "      <th>ph</th>\n",
       "      <th>rainfall</th>\n",
       "      <th>label</th>\n",
       "    </tr>\n",
       "  </thead>\n",
       "  <tbody>\n",
       "    <tr>\n",
       "      <th>0</th>\n",
       "      <td>90</td>\n",
       "      <td>42</td>\n",
       "      <td>43</td>\n",
       "      <td>20.879744</td>\n",
       "      <td>82.002744</td>\n",
       "      <td>6.502985</td>\n",
       "      <td>202.935536</td>\n",
       "      <td>rice</td>\n",
       "    </tr>\n",
       "    <tr>\n",
       "      <th>1</th>\n",
       "      <td>85</td>\n",
       "      <td>58</td>\n",
       "      <td>41</td>\n",
       "      <td>21.770462</td>\n",
       "      <td>80.319644</td>\n",
       "      <td>7.038096</td>\n",
       "      <td>226.655537</td>\n",
       "      <td>rice</td>\n",
       "    </tr>\n",
       "    <tr>\n",
       "      <th>2</th>\n",
       "      <td>60</td>\n",
       "      <td>55</td>\n",
       "      <td>44</td>\n",
       "      <td>23.004459</td>\n",
       "      <td>82.320763</td>\n",
       "      <td>7.840207</td>\n",
       "      <td>263.964248</td>\n",
       "      <td>rice</td>\n",
       "    </tr>\n",
       "    <tr>\n",
       "      <th>3</th>\n",
       "      <td>74</td>\n",
       "      <td>35</td>\n",
       "      <td>40</td>\n",
       "      <td>26.491096</td>\n",
       "      <td>80.158363</td>\n",
       "      <td>6.980401</td>\n",
       "      <td>242.864034</td>\n",
       "      <td>rice</td>\n",
       "    </tr>\n",
       "    <tr>\n",
       "      <th>4</th>\n",
       "      <td>78</td>\n",
       "      <td>42</td>\n",
       "      <td>42</td>\n",
       "      <td>20.130175</td>\n",
       "      <td>81.604873</td>\n",
       "      <td>7.628473</td>\n",
       "      <td>262.717340</td>\n",
       "      <td>rice</td>\n",
       "    </tr>\n",
       "  </tbody>\n",
       "</table>\n",
       "</div>"
      ],
      "text/plain": [
       "    N   P   K  temperature   humidity        ph    rainfall label\n",
       "0  90  42  43    20.879744  82.002744  6.502985  202.935536  rice\n",
       "1  85  58  41    21.770462  80.319644  7.038096  226.655537  rice\n",
       "2  60  55  44    23.004459  82.320763  7.840207  263.964248  rice\n",
       "3  74  35  40    26.491096  80.158363  6.980401  242.864034  rice\n",
       "4  78  42  42    20.130175  81.604873  7.628473  262.717340  rice"
      ]
     },
     "execution_count": 5,
     "metadata": {},
     "output_type": "execute_result"
    }
   ],
   "source": [
    "crop_r = pd.read_csv('/home/miracle/Documents/crop recommendation/Crop_recommendation.csv')\n",
    "crop_r.head()\n"
   ]
  },
  {
   "cell_type": "code",
   "execution_count": 6,
   "id": "996b3a77",
   "metadata": {},
   "outputs": [
    {
     "name": "stdout",
     "output_type": "stream",
     "text": [
      "(2200, 8) 2 17600\n"
     ]
    }
   ],
   "source": [
    "print(crop_r.shape, crop_r.ndim, crop_r.size) # shape deals with numbers of rows and columns"
   ]
  },
  {
   "cell_type": "code",
   "execution_count": 7,
   "id": "cb290ec6",
   "metadata": {},
   "outputs": [
    {
     "data": {
      "text/html": [
       "<div>\n",
       "<style scoped>\n",
       "    .dataframe tbody tr th:only-of-type {\n",
       "        vertical-align: middle;\n",
       "    }\n",
       "\n",
       "    .dataframe tbody tr th {\n",
       "        vertical-align: top;\n",
       "    }\n",
       "\n",
       "    .dataframe thead th {\n",
       "        text-align: right;\n",
       "    }\n",
       "</style>\n",
       "<table border=\"1\" class=\"dataframe\">\n",
       "  <thead>\n",
       "    <tr style=\"text-align: right;\">\n",
       "      <th></th>\n",
       "      <th>N</th>\n",
       "      <th>P</th>\n",
       "      <th>K</th>\n",
       "      <th>temperature</th>\n",
       "      <th>humidity</th>\n",
       "      <th>ph</th>\n",
       "      <th>rainfall</th>\n",
       "      <th>label</th>\n",
       "    </tr>\n",
       "  </thead>\n",
       "  <tbody>\n",
       "    <tr>\n",
       "      <th>2197</th>\n",
       "      <td>118</td>\n",
       "      <td>33</td>\n",
       "      <td>30</td>\n",
       "      <td>24.131797</td>\n",
       "      <td>67.225123</td>\n",
       "      <td>6.362608</td>\n",
       "      <td>173.322839</td>\n",
       "      <td>coffee</td>\n",
       "    </tr>\n",
       "    <tr>\n",
       "      <th>2198</th>\n",
       "      <td>117</td>\n",
       "      <td>32</td>\n",
       "      <td>34</td>\n",
       "      <td>26.272418</td>\n",
       "      <td>52.127394</td>\n",
       "      <td>6.758793</td>\n",
       "      <td>127.175293</td>\n",
       "      <td>coffee</td>\n",
       "    </tr>\n",
       "    <tr>\n",
       "      <th>2199</th>\n",
       "      <td>104</td>\n",
       "      <td>18</td>\n",
       "      <td>30</td>\n",
       "      <td>23.603016</td>\n",
       "      <td>60.396475</td>\n",
       "      <td>6.779833</td>\n",
       "      <td>140.937041</td>\n",
       "      <td>coffee</td>\n",
       "    </tr>\n",
       "  </tbody>\n",
       "</table>\n",
       "</div>"
      ],
      "text/plain": [
       "        N   P   K  temperature   humidity        ph    rainfall   label\n",
       "2197  118  33  30    24.131797  67.225123  6.362608  173.322839  coffee\n",
       "2198  117  32  34    26.272418  52.127394  6.758793  127.175293  coffee\n",
       "2199  104  18  30    23.603016  60.396475  6.779833  140.937041  coffee"
      ]
     },
     "execution_count": 7,
     "metadata": {},
     "output_type": "execute_result"
    }
   ],
   "source": [
    "crop_r.tail(3)"
   ]
  },
  {
   "cell_type": "code",
   "execution_count": 8,
   "id": "a885696f",
   "metadata": {},
   "outputs": [
    {
     "name": "stdout",
     "output_type": "stream",
     "text": [
      "<class 'pandas.core.frame.DataFrame'>\n",
      "RangeIndex: 2200 entries, 0 to 2199\n",
      "Data columns (total 8 columns):\n",
      " #   Column       Non-Null Count  Dtype  \n",
      "---  ------       --------------  -----  \n",
      " 0   N            2200 non-null   int64  \n",
      " 1   P            2200 non-null   int64  \n",
      " 2   K            2200 non-null   int64  \n",
      " 3   temperature  2200 non-null   float64\n",
      " 4   humidity     2200 non-null   float64\n",
      " 5   ph           2200 non-null   float64\n",
      " 6   rainfall     2200 non-null   float64\n",
      " 7   label        2200 non-null   object \n",
      "dtypes: float64(4), int64(3), object(1)\n",
      "memory usage: 137.6+ KB\n"
     ]
    }
   ],
   "source": [
    "crop_r.info() # To know the number of row and column togther with thier null values"
   ]
  },
  {
   "cell_type": "code",
   "execution_count": 9,
   "id": "92ee64d7",
   "metadata": {},
   "outputs": [
    {
     "data": {
      "text/html": [
       "<div>\n",
       "<style scoped>\n",
       "    .dataframe tbody tr th:only-of-type {\n",
       "        vertical-align: middle;\n",
       "    }\n",
       "\n",
       "    .dataframe tbody tr th {\n",
       "        vertical-align: top;\n",
       "    }\n",
       "\n",
       "    .dataframe thead th {\n",
       "        text-align: right;\n",
       "    }\n",
       "</style>\n",
       "<table border=\"1\" class=\"dataframe\">\n",
       "  <thead>\n",
       "    <tr style=\"text-align: right;\">\n",
       "      <th></th>\n",
       "      <th>N</th>\n",
       "      <th>P</th>\n",
       "      <th>K</th>\n",
       "      <th>temperature</th>\n",
       "      <th>humidity</th>\n",
       "      <th>ph</th>\n",
       "      <th>rainfall</th>\n",
       "    </tr>\n",
       "  </thead>\n",
       "  <tbody>\n",
       "    <tr>\n",
       "      <th>count</th>\n",
       "      <td>2200.000000</td>\n",
       "      <td>2200.000000</td>\n",
       "      <td>2200.000000</td>\n",
       "      <td>2200.000000</td>\n",
       "      <td>2200.000000</td>\n",
       "      <td>2200.000000</td>\n",
       "      <td>2200.000000</td>\n",
       "    </tr>\n",
       "    <tr>\n",
       "      <th>mean</th>\n",
       "      <td>50.551818</td>\n",
       "      <td>53.362727</td>\n",
       "      <td>48.149091</td>\n",
       "      <td>25.616244</td>\n",
       "      <td>71.481779</td>\n",
       "      <td>6.469480</td>\n",
       "      <td>103.463655</td>\n",
       "    </tr>\n",
       "    <tr>\n",
       "      <th>std</th>\n",
       "      <td>36.917334</td>\n",
       "      <td>32.985883</td>\n",
       "      <td>50.647931</td>\n",
       "      <td>5.063749</td>\n",
       "      <td>22.263812</td>\n",
       "      <td>0.773938</td>\n",
       "      <td>54.958389</td>\n",
       "    </tr>\n",
       "    <tr>\n",
       "      <th>min</th>\n",
       "      <td>0.000000</td>\n",
       "      <td>5.000000</td>\n",
       "      <td>5.000000</td>\n",
       "      <td>8.825675</td>\n",
       "      <td>14.258040</td>\n",
       "      <td>3.504752</td>\n",
       "      <td>20.211267</td>\n",
       "    </tr>\n",
       "    <tr>\n",
       "      <th>25%</th>\n",
       "      <td>21.000000</td>\n",
       "      <td>28.000000</td>\n",
       "      <td>20.000000</td>\n",
       "      <td>22.769375</td>\n",
       "      <td>60.261953</td>\n",
       "      <td>5.971693</td>\n",
       "      <td>64.551686</td>\n",
       "    </tr>\n",
       "    <tr>\n",
       "      <th>50%</th>\n",
       "      <td>37.000000</td>\n",
       "      <td>51.000000</td>\n",
       "      <td>32.000000</td>\n",
       "      <td>25.598693</td>\n",
       "      <td>80.473146</td>\n",
       "      <td>6.425045</td>\n",
       "      <td>94.867624</td>\n",
       "    </tr>\n",
       "    <tr>\n",
       "      <th>75%</th>\n",
       "      <td>84.250000</td>\n",
       "      <td>68.000000</td>\n",
       "      <td>49.000000</td>\n",
       "      <td>28.561654</td>\n",
       "      <td>89.948771</td>\n",
       "      <td>6.923643</td>\n",
       "      <td>124.267508</td>\n",
       "    </tr>\n",
       "    <tr>\n",
       "      <th>max</th>\n",
       "      <td>140.000000</td>\n",
       "      <td>145.000000</td>\n",
       "      <td>205.000000</td>\n",
       "      <td>43.675493</td>\n",
       "      <td>99.981876</td>\n",
       "      <td>9.935091</td>\n",
       "      <td>298.560117</td>\n",
       "    </tr>\n",
       "  </tbody>\n",
       "</table>\n",
       "</div>"
      ],
      "text/plain": [
       "                 N            P            K  temperature     humidity  \\\n",
       "count  2200.000000  2200.000000  2200.000000  2200.000000  2200.000000   \n",
       "mean     50.551818    53.362727    48.149091    25.616244    71.481779   \n",
       "std      36.917334    32.985883    50.647931     5.063749    22.263812   \n",
       "min       0.000000     5.000000     5.000000     8.825675    14.258040   \n",
       "25%      21.000000    28.000000    20.000000    22.769375    60.261953   \n",
       "50%      37.000000    51.000000    32.000000    25.598693    80.473146   \n",
       "75%      84.250000    68.000000    49.000000    28.561654    89.948771   \n",
       "max     140.000000   145.000000   205.000000    43.675493    99.981876   \n",
       "\n",
       "                ph     rainfall  \n",
       "count  2200.000000  2200.000000  \n",
       "mean      6.469480   103.463655  \n",
       "std       0.773938    54.958389  \n",
       "min       3.504752    20.211267  \n",
       "25%       5.971693    64.551686  \n",
       "50%       6.425045    94.867624  \n",
       "75%       6.923643   124.267508  \n",
       "max       9.935091   298.560117  "
      ]
     },
     "execution_count": 9,
     "metadata": {},
     "output_type": "execute_result"
    }
   ],
   "source": [
    "crop_r.describe() # To know the statistics  of the dataset"
   ]
  },
  {
   "cell_type": "code",
   "execution_count": 10,
   "id": "eea5a61b",
   "metadata": {},
   "outputs": [
    {
     "data": {
      "text/plain": [
       "N              0\n",
       "P              0\n",
       "K              0\n",
       "temperature    0\n",
       "humidity       0\n",
       "ph             0\n",
       "rainfall       0\n",
       "label          0\n",
       "dtype: int64"
      ]
     },
     "execution_count": 10,
     "metadata": {},
     "output_type": "execute_result"
    }
   ],
   "source": [
    "crop_r.isnull().sum() # To count the number of null values"
   ]
  },
  {
   "cell_type": "code",
   "execution_count": 11,
   "id": "adf07314",
   "metadata": {},
   "outputs": [
    {
     "data": {
      "text/plain": [
       "mothbeans      100\n",
       "apple          100\n",
       "pigeonpeas     100\n",
       "muskmelon      100\n",
       "papaya         100\n",
       "rice           100\n",
       "jute           100\n",
       "mango          100\n",
       "coconut        100\n",
       "mungbean       100\n",
       "grapes         100\n",
       "blackgram      100\n",
       "watermelon     100\n",
       "lentil         100\n",
       "banana         100\n",
       "pomegranate    100\n",
       "orange         100\n",
       "chickpea       100\n",
       "cotton         100\n",
       "coffee         100\n",
       "maize          100\n",
       "kidneybeans    100\n",
       "Name: label, dtype: int64"
      ]
     },
     "execution_count": 11,
     "metadata": {},
     "output_type": "execute_result"
    }
   ],
   "source": [
    "crop_r['label'].value_counts()"
   ]
  },
  {
   "cell_type": "code",
   "execution_count": 12,
   "id": "b65c273a",
   "metadata": {},
   "outputs": [
    {
     "data": {
      "text/plain": [
       "17600"
      ]
     },
     "execution_count": 12,
     "metadata": {},
     "output_type": "execute_result"
    }
   ],
   "source": [
    "crop_r.size"
   ]
  },
  {
   "cell_type": "code",
   "execution_count": 13,
   "id": "f92efbbc",
   "metadata": {},
   "outputs": [
    {
     "data": {
      "text/html": [
       "<div>\n",
       "<style scoped>\n",
       "    .dataframe tbody tr th:only-of-type {\n",
       "        vertical-align: middle;\n",
       "    }\n",
       "\n",
       "    .dataframe tbody tr th {\n",
       "        vertical-align: top;\n",
       "    }\n",
       "\n",
       "    .dataframe thead th {\n",
       "        text-align: right;\n",
       "    }\n",
       "</style>\n",
       "<table border=\"1\" class=\"dataframe\">\n",
       "  <thead>\n",
       "    <tr style=\"text-align: right;\">\n",
       "      <th></th>\n",
       "      <th>N</th>\n",
       "      <th>P</th>\n",
       "      <th>K</th>\n",
       "      <th>temperature</th>\n",
       "      <th>humidity</th>\n",
       "      <th>ph</th>\n",
       "      <th>rainfall</th>\n",
       "    </tr>\n",
       "    <tr>\n",
       "      <th>label</th>\n",
       "      <th></th>\n",
       "      <th></th>\n",
       "      <th></th>\n",
       "      <th></th>\n",
       "      <th></th>\n",
       "      <th></th>\n",
       "      <th></th>\n",
       "    </tr>\n",
       "  </thead>\n",
       "  <tbody>\n",
       "    <tr>\n",
       "      <th>apple</th>\n",
       "      <td>20.80</td>\n",
       "      <td>134.22</td>\n",
       "      <td>199.89</td>\n",
       "      <td>22.630942</td>\n",
       "      <td>92.333383</td>\n",
       "      <td>5.929663</td>\n",
       "      <td>112.654779</td>\n",
       "    </tr>\n",
       "    <tr>\n",
       "      <th>banana</th>\n",
       "      <td>100.23</td>\n",
       "      <td>82.01</td>\n",
       "      <td>50.05</td>\n",
       "      <td>27.376798</td>\n",
       "      <td>80.358123</td>\n",
       "      <td>5.983893</td>\n",
       "      <td>104.626980</td>\n",
       "    </tr>\n",
       "    <tr>\n",
       "      <th>blackgram</th>\n",
       "      <td>40.02</td>\n",
       "      <td>67.47</td>\n",
       "      <td>19.24</td>\n",
       "      <td>29.973340</td>\n",
       "      <td>65.118426</td>\n",
       "      <td>7.133952</td>\n",
       "      <td>67.884151</td>\n",
       "    </tr>\n",
       "    <tr>\n",
       "      <th>chickpea</th>\n",
       "      <td>40.09</td>\n",
       "      <td>67.79</td>\n",
       "      <td>79.92</td>\n",
       "      <td>18.872847</td>\n",
       "      <td>16.860439</td>\n",
       "      <td>7.336957</td>\n",
       "      <td>80.058977</td>\n",
       "    </tr>\n",
       "    <tr>\n",
       "      <th>coconut</th>\n",
       "      <td>21.98</td>\n",
       "      <td>16.93</td>\n",
       "      <td>30.59</td>\n",
       "      <td>27.409892</td>\n",
       "      <td>94.844272</td>\n",
       "      <td>5.976562</td>\n",
       "      <td>175.686646</td>\n",
       "    </tr>\n",
       "    <tr>\n",
       "      <th>coffee</th>\n",
       "      <td>101.20</td>\n",
       "      <td>28.74</td>\n",
       "      <td>29.94</td>\n",
       "      <td>25.540477</td>\n",
       "      <td>58.869846</td>\n",
       "      <td>6.790308</td>\n",
       "      <td>158.066295</td>\n",
       "    </tr>\n",
       "    <tr>\n",
       "      <th>cotton</th>\n",
       "      <td>117.77</td>\n",
       "      <td>46.24</td>\n",
       "      <td>19.56</td>\n",
       "      <td>23.988958</td>\n",
       "      <td>79.843474</td>\n",
       "      <td>6.912675</td>\n",
       "      <td>80.398043</td>\n",
       "    </tr>\n",
       "    <tr>\n",
       "      <th>grapes</th>\n",
       "      <td>23.18</td>\n",
       "      <td>132.53</td>\n",
       "      <td>200.11</td>\n",
       "      <td>23.849575</td>\n",
       "      <td>81.875228</td>\n",
       "      <td>6.025937</td>\n",
       "      <td>69.611829</td>\n",
       "    </tr>\n",
       "    <tr>\n",
       "      <th>jute</th>\n",
       "      <td>78.40</td>\n",
       "      <td>46.86</td>\n",
       "      <td>39.99</td>\n",
       "      <td>24.958376</td>\n",
       "      <td>79.639864</td>\n",
       "      <td>6.732778</td>\n",
       "      <td>174.792798</td>\n",
       "    </tr>\n",
       "    <tr>\n",
       "      <th>kidneybeans</th>\n",
       "      <td>20.75</td>\n",
       "      <td>67.54</td>\n",
       "      <td>20.05</td>\n",
       "      <td>20.115085</td>\n",
       "      <td>21.605357</td>\n",
       "      <td>5.749411</td>\n",
       "      <td>105.919778</td>\n",
       "    </tr>\n",
       "    <tr>\n",
       "      <th>lentil</th>\n",
       "      <td>18.77</td>\n",
       "      <td>68.36</td>\n",
       "      <td>19.41</td>\n",
       "      <td>24.509052</td>\n",
       "      <td>64.804785</td>\n",
       "      <td>6.927932</td>\n",
       "      <td>45.680454</td>\n",
       "    </tr>\n",
       "    <tr>\n",
       "      <th>maize</th>\n",
       "      <td>77.76</td>\n",
       "      <td>48.44</td>\n",
       "      <td>19.79</td>\n",
       "      <td>22.389204</td>\n",
       "      <td>65.092249</td>\n",
       "      <td>6.245190</td>\n",
       "      <td>84.766988</td>\n",
       "    </tr>\n",
       "    <tr>\n",
       "      <th>mango</th>\n",
       "      <td>20.07</td>\n",
       "      <td>27.18</td>\n",
       "      <td>29.92</td>\n",
       "      <td>31.208770</td>\n",
       "      <td>50.156573</td>\n",
       "      <td>5.766373</td>\n",
       "      <td>94.704515</td>\n",
       "    </tr>\n",
       "    <tr>\n",
       "      <th>mothbeans</th>\n",
       "      <td>21.44</td>\n",
       "      <td>48.01</td>\n",
       "      <td>20.23</td>\n",
       "      <td>28.194920</td>\n",
       "      <td>53.160418</td>\n",
       "      <td>6.831174</td>\n",
       "      <td>51.198487</td>\n",
       "    </tr>\n",
       "    <tr>\n",
       "      <th>mungbean</th>\n",
       "      <td>20.99</td>\n",
       "      <td>47.28</td>\n",
       "      <td>19.87</td>\n",
       "      <td>28.525775</td>\n",
       "      <td>85.499975</td>\n",
       "      <td>6.723957</td>\n",
       "      <td>48.403601</td>\n",
       "    </tr>\n",
       "    <tr>\n",
       "      <th>muskmelon</th>\n",
       "      <td>100.32</td>\n",
       "      <td>17.72</td>\n",
       "      <td>50.08</td>\n",
       "      <td>28.663066</td>\n",
       "      <td>92.342802</td>\n",
       "      <td>6.358805</td>\n",
       "      <td>24.689952</td>\n",
       "    </tr>\n",
       "    <tr>\n",
       "      <th>orange</th>\n",
       "      <td>19.58</td>\n",
       "      <td>16.55</td>\n",
       "      <td>10.01</td>\n",
       "      <td>22.765725</td>\n",
       "      <td>92.170209</td>\n",
       "      <td>7.016957</td>\n",
       "      <td>110.474969</td>\n",
       "    </tr>\n",
       "    <tr>\n",
       "      <th>papaya</th>\n",
       "      <td>49.88</td>\n",
       "      <td>59.05</td>\n",
       "      <td>50.04</td>\n",
       "      <td>33.723859</td>\n",
       "      <td>92.403388</td>\n",
       "      <td>6.741442</td>\n",
       "      <td>142.627839</td>\n",
       "    </tr>\n",
       "    <tr>\n",
       "      <th>pigeonpeas</th>\n",
       "      <td>20.73</td>\n",
       "      <td>67.73</td>\n",
       "      <td>20.29</td>\n",
       "      <td>27.741762</td>\n",
       "      <td>48.061633</td>\n",
       "      <td>5.794175</td>\n",
       "      <td>149.457564</td>\n",
       "    </tr>\n",
       "    <tr>\n",
       "      <th>pomegranate</th>\n",
       "      <td>18.87</td>\n",
       "      <td>18.75</td>\n",
       "      <td>40.21</td>\n",
       "      <td>21.837842</td>\n",
       "      <td>90.125504</td>\n",
       "      <td>6.429172</td>\n",
       "      <td>107.528442</td>\n",
       "    </tr>\n",
       "    <tr>\n",
       "      <th>rice</th>\n",
       "      <td>79.89</td>\n",
       "      <td>47.58</td>\n",
       "      <td>39.87</td>\n",
       "      <td>23.689332</td>\n",
       "      <td>82.272822</td>\n",
       "      <td>6.425471</td>\n",
       "      <td>236.181114</td>\n",
       "    </tr>\n",
       "    <tr>\n",
       "      <th>watermelon</th>\n",
       "      <td>99.42</td>\n",
       "      <td>17.00</td>\n",
       "      <td>50.22</td>\n",
       "      <td>25.591767</td>\n",
       "      <td>85.160375</td>\n",
       "      <td>6.495778</td>\n",
       "      <td>50.786219</td>\n",
       "    </tr>\n",
       "  </tbody>\n",
       "</table>\n",
       "</div>"
      ],
      "text/plain": [
       "                  N       P       K  temperature   humidity        ph  \\\n",
       "label                                                                   \n",
       "apple         20.80  134.22  199.89    22.630942  92.333383  5.929663   \n",
       "banana       100.23   82.01   50.05    27.376798  80.358123  5.983893   \n",
       "blackgram     40.02   67.47   19.24    29.973340  65.118426  7.133952   \n",
       "chickpea      40.09   67.79   79.92    18.872847  16.860439  7.336957   \n",
       "coconut       21.98   16.93   30.59    27.409892  94.844272  5.976562   \n",
       "coffee       101.20   28.74   29.94    25.540477  58.869846  6.790308   \n",
       "cotton       117.77   46.24   19.56    23.988958  79.843474  6.912675   \n",
       "grapes        23.18  132.53  200.11    23.849575  81.875228  6.025937   \n",
       "jute          78.40   46.86   39.99    24.958376  79.639864  6.732778   \n",
       "kidneybeans   20.75   67.54   20.05    20.115085  21.605357  5.749411   \n",
       "lentil        18.77   68.36   19.41    24.509052  64.804785  6.927932   \n",
       "maize         77.76   48.44   19.79    22.389204  65.092249  6.245190   \n",
       "mango         20.07   27.18   29.92    31.208770  50.156573  5.766373   \n",
       "mothbeans     21.44   48.01   20.23    28.194920  53.160418  6.831174   \n",
       "mungbean      20.99   47.28   19.87    28.525775  85.499975  6.723957   \n",
       "muskmelon    100.32   17.72   50.08    28.663066  92.342802  6.358805   \n",
       "orange        19.58   16.55   10.01    22.765725  92.170209  7.016957   \n",
       "papaya        49.88   59.05   50.04    33.723859  92.403388  6.741442   \n",
       "pigeonpeas    20.73   67.73   20.29    27.741762  48.061633  5.794175   \n",
       "pomegranate   18.87   18.75   40.21    21.837842  90.125504  6.429172   \n",
       "rice          79.89   47.58   39.87    23.689332  82.272822  6.425471   \n",
       "watermelon    99.42   17.00   50.22    25.591767  85.160375  6.495778   \n",
       "\n",
       "               rainfall  \n",
       "label                    \n",
       "apple        112.654779  \n",
       "banana       104.626980  \n",
       "blackgram     67.884151  \n",
       "chickpea      80.058977  \n",
       "coconut      175.686646  \n",
       "coffee       158.066295  \n",
       "cotton        80.398043  \n",
       "grapes        69.611829  \n",
       "jute         174.792798  \n",
       "kidneybeans  105.919778  \n",
       "lentil        45.680454  \n",
       "maize         84.766988  \n",
       "mango         94.704515  \n",
       "mothbeans     51.198487  \n",
       "mungbean      48.403601  \n",
       "muskmelon     24.689952  \n",
       "orange       110.474969  \n",
       "papaya       142.627839  \n",
       "pigeonpeas   149.457564  \n",
       "pomegranate  107.528442  \n",
       "rice         236.181114  \n",
       "watermelon    50.786219  "
      ]
     },
     "execution_count": 13,
     "metadata": {},
     "output_type": "execute_result"
    }
   ],
   "source": [
    "crop_r.groupby('label').mean() # mean of the label values"
   ]
  },
  {
   "cell_type": "code",
   "execution_count": 14,
   "id": "1b5a3e41",
   "metadata": {},
   "outputs": [
    {
     "data": {
      "text/plain": [
       "array(['rice', 'maize', 'chickpea', 'kidneybeans', 'pigeonpeas',\n",
       "       'mothbeans', 'mungbean', 'blackgram', 'lentil', 'pomegranate',\n",
       "       'banana', 'mango', 'grapes', 'watermelon', 'muskmelon', 'apple',\n",
       "       'orange', 'papaya', 'coconut', 'cotton', 'jute', 'coffee'],\n",
       "      dtype=object)"
      ]
     },
     "execution_count": 14,
     "metadata": {},
     "output_type": "execute_result"
    }
   ],
   "source": [
    "crop_r['label'].unique()"
   ]
  },
  {
   "cell_type": "markdown",
   "id": "e6f90a9a",
   "metadata": {},
   "source": [
    "# Coverting categorical value into neumerical value"
   ]
  },
  {
   "cell_type": "code",
   "execution_count": 15,
   "id": "44e31e6f",
   "metadata": {},
   "outputs": [],
   "source": [
    " #Computer understands neumerical values only unlike humans that understands both neum and cate values\n",
    "# Method 1. LabelEncoding from Sklearn\n",
    "#from sklearn.preprocessing import LabelEncoder\n",
    "#le= LabelEncoder()\n",
    "#outcome = le.fit_transform(crop_redm['label']) # using fit_transform function\n",
    "#outcome\n",
    "#crop_redm.drop('label', axis=1, inplace= True)\n",
    "#crop_redm[\"label\"]= outcome\n",
    "\n",
    "# Method 2 Using unique()\n",
    "#d = {value:index for index, value in enumerate (crop_r['label'].unique()) }\n",
    "#d\n",
    "#crop_r['outcome']=crop_r['label'].map(d)\n",
    "#crop_r\n",
    "#cropR.drop('label', axis=1, inplace = True)\n"
   ]
  },
  {
   "cell_type": "code",
   "execution_count": 16,
   "id": "0adbe033",
   "metadata": {},
   "outputs": [],
   "source": [
    "# Separating the feature and target varibles\n",
    "#X = crop_r.drop(['label'], axis=1)\n",
    "#X = crop_r.iloc [:,1:8] \n",
    "features= crop_r[['N','P','K','temperature','humidity','ph','rainfall']]\n",
    "target=crop_r['label']\n"
   ]
  },
  {
   "cell_type": "code",
   "execution_count": 17,
   "id": "2ebba9a1",
   "metadata": {},
   "outputs": [
    {
     "name": "stdout",
     "output_type": "stream",
     "text": [
      "(2200, 7) (1760, 7) (440, 7)\n",
      "15400 12320 3080\n",
      "(2200,) (1760,) (440,)\n"
     ]
    }
   ],
   "source": [
    "# Spliting them into training and testing data\n",
    "from sklearn.model_selection import train_test_split\n",
    "X_train,X_test,Y_train,Y_test= train_test_split(features,target, test_size=0.2, stratify=target, random_state=2)\n",
    "print (features.shape, X_train.shape, X_test.shape)\n",
    "print (features.size, X_train.size, X_test.size)\n",
    "print (target.shape, Y_train.shape, Y_test.shape)"
   ]
  },
  {
   "cell_type": "code",
   "execution_count": 18,
   "id": "baa6b027",
   "metadata": {},
   "outputs": [
    {
     "name": "stdout",
     "output_type": "stream",
     "text": [
      "1432    muskmelon\n",
      "1978       cotton\n",
      "504     mothbeans\n",
      "1459    muskmelon\n",
      "843        lentil\n",
      "          ...    \n",
      "682      mungbean\n",
      "223      chickpea\n",
      "1114        mango\n",
      "1155        mango\n",
      "1687       orange\n",
      "Name: label, Length: 1760, dtype: object\n"
     ]
    }
   ],
   "source": [
    "print(Y_train)"
   ]
  },
  {
   "cell_type": "code",
   "execution_count": 19,
   "id": "1b81d038",
   "metadata": {},
   "outputs": [],
   "source": [
    "# Intializing empty lists to append models accuracy and their corresponding name\n",
    "acc = []\n",
    "model = []"
   ]
  },
  {
   "cell_type": "code",
   "execution_count": 17,
   "id": "d60a6482",
   "metadata": {},
   "outputs": [
    {
     "data": {
      "text/plain": [
       "N                int64\n",
       "P                int64\n",
       "K                int64\n",
       "temperature    float64\n",
       "humidity       float64\n",
       "ph             float64\n",
       "rainfall       float64\n",
       "label           object\n",
       "dtype: object"
      ]
     },
     "execution_count": 17,
     "metadata": {},
     "output_type": "execute_result"
    }
   ],
   "source": [
    "crop_r.dtypes"
   ]
  },
  {
   "cell_type": "markdown",
   "id": "69af032f",
   "metadata": {},
   "source": [
    "# Support vector machine model"
   ]
  },
  {
   "cell_type": "code",
   "execution_count": 18,
   "id": "fe8d00c7",
   "metadata": {},
   "outputs": [
    {
     "data": {
      "text/plain": [
       "SVC()"
      ]
     },
     "execution_count": 18,
     "metadata": {},
     "output_type": "execute_result"
    }
   ],
   "source": [
    "from sklearn import svm\n",
    "Classifier = svm.SVC()\n",
    "Classifier.fit(X_train,Y_train)\n"
   ]
  },
  {
   "cell_type": "code",
   "execution_count": 19,
   "id": "3e50e6b5",
   "metadata": {},
   "outputs": [
    {
     "data": {
      "text/plain": [
       "0.9767045454545454"
      ]
     },
     "execution_count": 19,
     "metadata": {},
     "output_type": "execute_result"
    }
   ],
   "source": [
    "# Training acccuracy score\n",
    "X_train_pred= Classifier.predict(X_train)\n",
    "X_train_acc= accuracy_score(X_train_pred, Y_train)\n",
    "X_train_acc\n",
    "#print(classification_report(X_train_pred, Y_train))\n",
    "#print(confusion_matrix(X_train_pred, Y_train))"
   ]
  },
  {
   "cell_type": "code",
   "execution_count": 20,
   "id": "8f006e26",
   "metadata": {},
   "outputs": [
    {
     "name": "stdout",
     "output_type": "stream",
     "text": [
      "Support vector machine's Accuracy is: 98.86363636363636\n",
      "              precision    recall  f1-score   support\n",
      "\n",
      "       apple       1.00      1.00      1.00        20\n",
      "      banana       1.00      1.00      1.00        20\n",
      "   blackgram       1.00      1.00      1.00        20\n",
      "    chickpea       1.00      1.00      1.00        20\n",
      "     coconut       1.00      1.00      1.00        20\n",
      "      coffee       1.00      1.00      1.00        20\n",
      "      cotton       1.00      0.95      0.98        21\n",
      "      grapes       1.00      1.00      1.00        20\n",
      "        jute       1.00      0.83      0.91        24\n",
      " kidneybeans       1.00      1.00      1.00        20\n",
      "      lentil       1.00      1.00      1.00        20\n",
      "       maize       0.95      1.00      0.97        19\n",
      "       mango       1.00      1.00      1.00        20\n",
      "   mothbeans       1.00      1.00      1.00        20\n",
      "    mungbean       1.00      1.00      1.00        20\n",
      "   muskmelon       1.00      1.00      1.00        20\n",
      "      orange       1.00      1.00      1.00        20\n",
      "      papaya       1.00      1.00      1.00        20\n",
      "  pigeonpeas       1.00      1.00      1.00        20\n",
      " pomegranate       1.00      1.00      1.00        20\n",
      "        rice       0.80      1.00      0.89        16\n",
      "  watermelon       1.00      1.00      1.00        20\n",
      "\n",
      "    accuracy                           0.99       440\n",
      "   macro avg       0.99      0.99      0.99       440\n",
      "weighted avg       0.99      0.99      0.99       440\n",
      "\n",
      "[[20  0  0  0  0  0  0  0  0  0  0  0  0  0  0  0  0  0  0  0  0  0]\n",
      " [ 0 20  0  0  0  0  0  0  0  0  0  0  0  0  0  0  0  0  0  0  0  0]\n",
      " [ 0  0 20  0  0  0  0  0  0  0  0  0  0  0  0  0  0  0  0  0  0  0]\n",
      " [ 0  0  0 20  0  0  0  0  0  0  0  0  0  0  0  0  0  0  0  0  0  0]\n",
      " [ 0  0  0  0 20  0  0  0  0  0  0  0  0  0  0  0  0  0  0  0  0  0]\n",
      " [ 0  0  0  0  0 20  0  0  0  0  0  0  0  0  0  0  0  0  0  0  0  0]\n",
      " [ 0  0  0  0  0  0 20  0  0  0  0  1  0  0  0  0  0  0  0  0  0  0]\n",
      " [ 0  0  0  0  0  0  0 20  0  0  0  0  0  0  0  0  0  0  0  0  0  0]\n",
      " [ 0  0  0  0  0  0  0  0 20  0  0  0  0  0  0  0  0  0  0  0  4  0]\n",
      " [ 0  0  0  0  0  0  0  0  0 20  0  0  0  0  0  0  0  0  0  0  0  0]\n",
      " [ 0  0  0  0  0  0  0  0  0  0 20  0  0  0  0  0  0  0  0  0  0  0]\n",
      " [ 0  0  0  0  0  0  0  0  0  0  0 19  0  0  0  0  0  0  0  0  0  0]\n",
      " [ 0  0  0  0  0  0  0  0  0  0  0  0 20  0  0  0  0  0  0  0  0  0]\n",
      " [ 0  0  0  0  0  0  0  0  0  0  0  0  0 20  0  0  0  0  0  0  0  0]\n",
      " [ 0  0  0  0  0  0  0  0  0  0  0  0  0  0 20  0  0  0  0  0  0  0]\n",
      " [ 0  0  0  0  0  0  0  0  0  0  0  0  0  0  0 20  0  0  0  0  0  0]\n",
      " [ 0  0  0  0  0  0  0  0  0  0  0  0  0  0  0  0 20  0  0  0  0  0]\n",
      " [ 0  0  0  0  0  0  0  0  0  0  0  0  0  0  0  0  0 20  0  0  0  0]\n",
      " [ 0  0  0  0  0  0  0  0  0  0  0  0  0  0  0  0  0  0 20  0  0  0]\n",
      " [ 0  0  0  0  0  0  0  0  0  0  0  0  0  0  0  0  0  0  0 20  0  0]\n",
      " [ 0  0  0  0  0  0  0  0  0  0  0  0  0  0  0  0  0  0  0  0 16  0]\n",
      " [ 0  0  0  0  0  0  0  0  0  0  0  0  0  0  0  0  0  0  0  0  0 20]]\n"
     ]
    }
   ],
   "source": [
    "# Testing acccuracy score\n",
    "X_test_pred= Classifier.predict(X_test)\n",
    "X_test_accsvm= accuracy_score(X_test_pred, Y_test)\n",
    "X_test_accsvm\n",
    "acc.append(X_test_accsvm)\n",
    "model.append('SVM')\n",
    "print(\"Support vector machine's Accuracy is:\",X_test_accsvm * 100)\n",
    "print( classification_report(X_test_pred, Y_test))\n",
    "print(confusion_matrix(X_test_pred, Y_test))"
   ]
  },
  {
   "cell_type": "code",
   "execution_count": 21,
   "id": "fa175d08",
   "metadata": {},
   "outputs": [
    {
     "data": {
      "text/plain": [
       "array([0.98409091, 0.97954545, 0.97954545, 0.97272727, 0.975     ])"
      ]
     },
     "execution_count": 21,
     "metadata": {},
     "output_type": "execute_result"
    }
   ],
   "source": [
    "# Cross validation\n",
    "from sklearn.model_selection import cross_val_score\n",
    "score = cross_val_score(Classifier, features, target, cv=5)\n",
    "score"
   ]
  },
  {
   "cell_type": "code",
   "execution_count": 22,
   "id": "186e628f",
   "metadata": {},
   "outputs": [
    {
     "name": "stderr",
     "output_type": "stream",
     "text": [
      "/home/miracle/anaconda3/lib/python3.8/site-packages/sklearn/base.py:450: UserWarning: X does not have valid feature names, but SVC was fitted with feature names\n",
      "  warnings.warn(\n"
     ]
    },
    {
     "data": {
      "text/plain": [
       "array(['rice'], dtype=object)"
      ]
     },
     "execution_count": 22,
     "metadata": {},
     "output_type": "execute_result"
    }
   ],
   "source": [
    "# Testing our model \n",
    "input_data=(78 ,42 ,42 ,20.130175 ,81.604873 ,7.628473 ,262.717340) # input data\n",
    "input_array = np.asarray(input_data) # convert the input data as an array\n",
    "input_reshape = input_array.reshape(1,-1) #Reshape the input data into one dimension\n",
    "prediction = Classifier.predict(input_reshape) \n",
    "prediction\n"
   ]
  },
  {
   "cell_type": "markdown",
   "id": "5e6bcc28",
   "metadata": {},
   "source": [
    "# Decision Tree Classifier"
   ]
  },
  {
   "cell_type": "code",
   "execution_count": 23,
   "id": "bc108001",
   "metadata": {},
   "outputs": [
    {
     "data": {
      "text/plain": [
       "DecisionTreeClassifier()"
      ]
     },
     "execution_count": 23,
     "metadata": {},
     "output_type": "execute_result"
    }
   ],
   "source": [
    "from sklearn.tree import DecisionTreeClassifier\n",
    "DecisionT= DecisionTreeClassifier()\n",
    "DecisionT.fit(X_train,Y_train)"
   ]
  },
  {
   "cell_type": "code",
   "execution_count": 24,
   "id": "d369f58f",
   "metadata": {},
   "outputs": [
    {
     "data": {
      "text/plain": [
       "1.0"
      ]
     },
     "execution_count": 24,
     "metadata": {},
     "output_type": "execute_result"
    }
   ],
   "source": [
    "# Training accuracy\n",
    "X_train_pred= DecisionT.predict(X_train)\n",
    "X_train_acc= accuracy_score(X_train_pred, Y_train)\n",
    "X_train_acc"
   ]
  },
  {
   "cell_type": "code",
   "execution_count": 25,
   "id": "715b690a",
   "metadata": {},
   "outputs": [
    {
     "name": "stdout",
     "output_type": "stream",
     "text": [
      "The decision tree accuracy is: 99.31818181818181\n"
     ]
    }
   ],
   "source": [
    "# Testing accuracy\n",
    "X_test_pred= DecisionT.predict(X_test)\n",
    "X_test_accDT= accuracy_score(X_test_pred, Y_test)\n",
    "X_test_accDT\n",
    "acc.append(X_test_accDT)\n",
    "model.append('Decision Tree')\n",
    "print('The decision tree accuracy is:', X_test_accDT*100)\n",
    "#print(classification_report(X_test_pred, Y_test))\n",
    "#print(confusion_matrix(X_test_pred, Y_test))"
   ]
  },
  {
   "cell_type": "code",
   "execution_count": 26,
   "id": "c53b6974",
   "metadata": {},
   "outputs": [
    {
     "data": {
      "text/plain": [
       "array([0.99090909, 0.98409091, 0.98863636, 0.98636364, 0.98636364])"
      ]
     },
     "execution_count": 26,
     "metadata": {},
     "output_type": "execute_result"
    }
   ],
   "source": [
    "score = cross_val_score(DecisionT, features, target, cv=5)\n",
    "score"
   ]
  },
  {
   "cell_type": "markdown",
   "id": "62fa8813",
   "metadata": {},
   "source": [
    "# Knearest Neighbor Calssifier"
   ]
  },
  {
   "cell_type": "code",
   "execution_count": 27,
   "id": "ff15eb01",
   "metadata": {},
   "outputs": [
    {
     "data": {
      "text/plain": [
       "KNeighborsClassifier()"
      ]
     },
     "execution_count": 27,
     "metadata": {},
     "output_type": "execute_result"
    }
   ],
   "source": [
    "from sklearn.neighbors import KNeighborsClassifier\n",
    "Kneighbor = KNeighborsClassifier()\n",
    "Kneighbor.fit(X_train,Y_train)"
   ]
  },
  {
   "cell_type": "code",
   "execution_count": 28,
   "id": "b41b528a",
   "metadata": {},
   "outputs": [
    {
     "data": {
      "text/plain": [
       "0.9857954545454546"
      ]
     },
     "execution_count": 28,
     "metadata": {},
     "output_type": "execute_result"
    }
   ],
   "source": [
    "\n",
    "# Training accuracy\n",
    "X_train_pred= Kneighbor.predict(X_train)\n",
    "X_train_acc= accuracy_score(X_train_pred, Y_train)\n",
    "X_train_acc"
   ]
  },
  {
   "cell_type": "code",
   "execution_count": 29,
   "id": "2a0c16da",
   "metadata": {},
   "outputs": [
    {
     "name": "stdout",
     "output_type": "stream",
     "text": [
      "The accuracy of Kneighbor is: 98.18181818181819\n",
      "[0.97727273 0.98181818 0.97954545 0.97954545 0.97954545]\n"
     ]
    }
   ],
   "source": [
    "# Testing accuracy\n",
    "X_test_pred= Kneighbor.predict(X_test)\n",
    "X_test_accKn= accuracy_score(X_test_pred, Y_test)\n",
    "X_test_accKn\n",
    "acc.append(X_test_accKn)\n",
    "model.append('Knearest neigbor')\n",
    "print ('The accuracy of Kneighbor is:', X_test_accKn*100)\n",
    "#print(classification_report(X_test_pred, Y_test))\n",
    "#print(confusion_matrix(X_test_pred, Y_test))\n",
    "print(cross_val_score (Kneighbor,features, target, cv=5))"
   ]
  },
  {
   "cell_type": "markdown",
   "id": "8b0c0568",
   "metadata": {},
   "source": [
    "# Random Forest"
   ]
  },
  {
   "cell_type": "code",
   "execution_count": 30,
   "id": "fb1434d3",
   "metadata": {},
   "outputs": [
    {
     "data": {
      "text/plain": [
       "RandomForestClassifier()"
      ]
     },
     "execution_count": 30,
     "metadata": {},
     "output_type": "execute_result"
    }
   ],
   "source": [
    "from sklearn.ensemble import RandomForestClassifier\n",
    "RF= RandomForestClassifier()\n",
    "RF.fit(X_train,Y_train)"
   ]
  },
  {
   "cell_type": "code",
   "execution_count": 31,
   "id": "a89ebbc5",
   "metadata": {},
   "outputs": [
    {
     "data": {
      "text/plain": [
       "1.0"
      ]
     },
     "execution_count": 31,
     "metadata": {},
     "output_type": "execute_result"
    }
   ],
   "source": [
    "# Training Accuracy\n",
    "X_train_pred = RF.predict(X_train)\n",
    "X_train_accRF=accuracy_score(X_train_pred, Y_train)\n",
    "X_train_accRF"
   ]
  },
  {
   "cell_type": "code",
   "execution_count": 32,
   "id": "3243a99b",
   "metadata": {},
   "outputs": [
    {
     "name": "stdout",
     "output_type": "stream",
     "text": [
      "The random forest accuracy is: 99.54545454545455\n",
      "[0.99545455 0.99318182 0.99545455 0.99318182 0.98636364]\n"
     ]
    }
   ],
   "source": [
    "# Testing Accuracy\n",
    "X_test_pred = RF.predict(X_test)\n",
    "X_test_accRF=accuracy_score(Y_test, X_test_pred)\n",
    "X_test_accRF\n",
    "acc.append(X_test_accRF)\n",
    "model.append('Random Forest')\n",
    "print('The random forest accuracy is:', X_test_accRF *100)\n",
    "#print(classification_report(Y_test, X_test_pred))\n",
    "#print(confusion_matrix(Y_test, X_test_pred))\n",
    "print(cross_val_score(RF, features,target,cv=5))"
   ]
  },
  {
   "cell_type": "markdown",
   "id": "e7e096b5",
   "metadata": {},
   "source": [
    "# Gradient Boosting Classifier"
   ]
  },
  {
   "cell_type": "code",
   "execution_count": 33,
   "id": "cf1b01ff",
   "metadata": {},
   "outputs": [
    {
     "data": {
      "text/plain": [
       "GradientBoostingClassifier()"
      ]
     },
     "execution_count": 33,
     "metadata": {},
     "output_type": "execute_result"
    }
   ],
   "source": [
    "from sklearn.ensemble import GradientBoostingClassifier\n",
    "GBC= GradientBoostingClassifier()\n",
    "GBC.fit(X_train,Y_train)"
   ]
  },
  {
   "cell_type": "code",
   "execution_count": 34,
   "id": "fca02f48",
   "metadata": {},
   "outputs": [
    {
     "data": {
      "text/plain": [
       "1.0"
      ]
     },
     "execution_count": 34,
     "metadata": {},
     "output_type": "execute_result"
    }
   ],
   "source": [
    "# Training Accuracy\n",
    "X_train_pred= GBC.predict(X_train)\n",
    "X_train_accGBC= accuracy_score(X_train_pred, Y_train)\n",
    "X_train_accGBC"
   ]
  },
  {
   "cell_type": "code",
   "execution_count": 35,
   "id": "80124c28",
   "metadata": {},
   "outputs": [
    {
     "name": "stdout",
     "output_type": "stream",
     "text": [
      "The gradient boosting accuracy is: 99.0909090909091\n"
     ]
    }
   ],
   "source": [
    "# Testing Accuracy\n",
    "X_test_pred= GBC.predict(X_test)\n",
    "X_test_accGBC= accuracy_score(X_test_pred, Y_test)\n",
    "X_test_accGBC\n",
    "acc.append(X_test_accGBC)\n",
    "model.append('Gradient Boosting')\n",
    "print('The gradient boosting accuracy is:',X_test_accGBC*100)\n",
    "#print(cross_val_score(GBC,features,target,cv=5))"
   ]
  },
  {
   "cell_type": "code",
   "execution_count": 36,
   "id": "ba7fad8e",
   "metadata": {},
   "outputs": [
    {
     "name": "stderr",
     "output_type": "stream",
     "text": [
      "/home/miracle/anaconda3/lib/python3.8/site-packages/xgboost/sklearn.py:1146: UserWarning: The use of label encoder in XGBClassifier is deprecated and will be removed in a future release. To remove this warning, do the following: 1) Pass option use_label_encoder=False when constructing XGBClassifier object; and 2) Encode your labels (y) as integers starting with 0, i.e. 0, 1, 2, ..., [num_class - 1].\n",
      "  warnings.warn(label_encoder_deprecation_msg, UserWarning)\n"
     ]
    },
    {
     "name": "stdout",
     "output_type": "stream",
     "text": [
      "[22:22:58] WARNING: ../src/learner.cc:1095: Starting in XGBoost 1.3.0, the default evaluation metric used with the objective 'multi:softprob' was changed from 'merror' to 'mlogloss'. Explicitly set eval_metric if you'd like to restore the old behavior.\n"
     ]
    },
    {
     "data": {
      "text/plain": [
       "XGBClassifier(base_score=0.5, booster='gbtree', colsample_bylevel=1,\n",
       "              colsample_bynode=1, colsample_bytree=1, gamma=0, gpu_id=-1,\n",
       "              importance_type='gain', interaction_constraints='',\n",
       "              learning_rate=0.300000012, max_delta_step=0, max_depth=6,\n",
       "              min_child_weight=1, missing=nan, monotone_constraints='()',\n",
       "              n_estimators=100, n_jobs=4, num_parallel_tree=1,\n",
       "              objective='multi:softprob', random_state=0, reg_alpha=0,\n",
       "              reg_lambda=1, scale_pos_weight=None, subsample=1,\n",
       "              tree_method='exact', validate_parameters=1, verbosity=None)"
      ]
     },
     "execution_count": 36,
     "metadata": {},
     "output_type": "execute_result"
    }
   ],
   "source": [
    "import xgboost as xgb\n",
    "XGB=xgb.XGBClassifier()\n",
    "XGB.fit(X_train,Y_train)"
   ]
  },
  {
   "cell_type": "code",
   "execution_count": 37,
   "id": "633a201c",
   "metadata": {},
   "outputs": [
    {
     "data": {
      "text/plain": [
       "1.0"
      ]
     },
     "execution_count": 37,
     "metadata": {},
     "output_type": "execute_result"
    }
   ],
   "source": [
    "# Training Accuracy\n",
    "X_train_pred= XGB.predict(X_train)\n",
    "X_train_accXGB= accuracy_score(X_train_pred, Y_train)\n",
    "X_train_accXGB"
   ]
  },
  {
   "cell_type": "code",
   "execution_count": 38,
   "id": "50669245",
   "metadata": {},
   "outputs": [
    {
     "name": "stdout",
     "output_type": "stream",
     "text": [
      "The gradient extreme boosting accuracy is: 98.86363636363636\n"
     ]
    }
   ],
   "source": [
    "# Testing Accuracy\n",
    "X_test_pred= XGB.predict(X_test)\n",
    "X_test_accXGB= accuracy_score(X_test_pred, Y_test)\n",
    "X_test_accXGB\n",
    "acc.append(X_test_accXGB)\n",
    "model.append(' Extreme Gradient Boosting')\n",
    "print('The gradient extreme boosting accuracy is:',X_test_accXGB*100)\n",
    "#print(cross_val_score(XGB,features,target,cv=5))\n",
    "#print(confusion_matrix(X_test_pred, Y_test))"
   ]
  },
  {
   "cell_type": "markdown",
   "id": "27ae60c3",
   "metadata": {},
   "source": [
    "# Logistic Regression"
   ]
  },
  {
   "cell_type": "code",
   "execution_count": 39,
   "id": "95942d44",
   "metadata": {},
   "outputs": [
    {
     "name": "stderr",
     "output_type": "stream",
     "text": [
      "/home/miracle/anaconda3/lib/python3.8/site-packages/sklearn/linear_model/_logistic.py:814: ConvergenceWarning: lbfgs failed to converge (status=1):\n",
      "STOP: TOTAL NO. of ITERATIONS REACHED LIMIT.\n",
      "\n",
      "Increase the number of iterations (max_iter) or scale the data as shown in:\n",
      "    https://scikit-learn.org/stable/modules/preprocessing.html\n",
      "Please also refer to the documentation for alternative solver options:\n",
      "    https://scikit-learn.org/stable/modules/linear_model.html#logistic-regression\n",
      "  n_iter_i = _check_optimize_result(\n"
     ]
    },
    {
     "data": {
      "text/plain": [
       "LogisticRegression()"
      ]
     },
     "execution_count": 39,
     "metadata": {},
     "output_type": "execute_result"
    }
   ],
   "source": [
    "from sklearn.linear_model import LogisticRegression\n",
    "LogR= LogisticRegression()\n",
    "LogR.fit(X_train,Y_train)"
   ]
  },
  {
   "cell_type": "code",
   "execution_count": 40,
   "id": "09ab1fe9",
   "metadata": {},
   "outputs": [
    {
     "data": {
      "text/plain": [
       "0.9710227272727273"
      ]
     },
     "execution_count": 40,
     "metadata": {},
     "output_type": "execute_result"
    }
   ],
   "source": [
    "# Training Accuracy\n",
    "X_train_pred= LogR.predict(X_train)\n",
    "X_train_accLogR= accuracy_score(X_train_pred, Y_train)\n",
    "X_train_accLogR"
   ]
  },
  {
   "cell_type": "code",
   "execution_count": 41,
   "id": "c15929cf",
   "metadata": {},
   "outputs": [
    {
     "name": "stdout",
     "output_type": "stream",
     "text": [
      "The logistic regression accuracy is: 96.36363636363636\n"
     ]
    }
   ],
   "source": [
    "#Testing Accuracy\n",
    "X_test_pred= LogR.predict(X_test)\n",
    "X_test_accLogR= accuracy_score(X_test_pred, Y_test)\n",
    "X_test_accLogR\n",
    "acc.append(X_test_accLogR)\n",
    "model.append(' Logistic Regression')\n",
    "print('The logistic regression accuracy is:',X_test_accLogR*100)\n",
    "#print(cross_val_score(XGB,features,target,cv=5))\n",
    "#print(confusion_matrix(X_test_pred, Y_test))\n",
    "#print(cross_val_score(LogR,features,target,cv=5))"
   ]
  },
  {
   "cell_type": "markdown",
   "id": "4184ff95",
   "metadata": {},
   "source": [
    "# Accuracy Comparison"
   ]
  },
  {
   "cell_type": "code",
   "execution_count": 42,
   "id": "02372fa8",
   "metadata": {},
   "outputs": [
    {
     "data": {
      "text/plain": [
       "Text(0, 0.5, 'Models')"
      ]
     },
     "execution_count": 42,
     "metadata": {},
     "output_type": "execute_result"
    },
    {
     "data": {
      "image/png": "[encoded data removed]",
      "text/plain": [
       "<Figure size 720x360 with 1 Axes>"
      ]
     },
     "metadata": {
      "needs_background": "light"
     },
     "output_type": "display_data"
    }
   ],
   "source": [
    "plt.figure(figsize=[10,5])\n",
    "sns.barplot(x=acc, y= model,palette='dark') # Various palette deep, dark, muted, bright,pastel &colorblind\n",
    "plt.title('Accuracy Comparison')\n",
    "plt.xlabel('Accuracy')\n",
    "plt.ylabel('Models')"
   ]
  },
  {
   "cell_type": "markdown",
   "id": "c0357c15",
   "metadata": {},
   "source": [
    "# Saving the Trained Model"
   ]
  },
  {
   "cell_type": "code",
   "execution_count": 43,
   "id": "d565bae2",
   "metadata": {},
   "outputs": [],
   "source": [
    "import pickle\n",
    "filename='trained_DecisionT_model.sav'\n",
    "pickle.dump(DecisionT,open(filename,\"wb\"))\n"
   ]
  },
  {
   "cell_type": "markdown",
   "id": "c1781478",
   "metadata": {},
   "source": [
    "# Loading the saved model"
   ]
  },
  {
   "cell_type": "code",
   "execution_count": 44,
   "id": "a2edea38",
   "metadata": {},
   "outputs": [],
   "source": [
    "load_model= pickle.load(open('trained_DecisionT_model.sav', 'rb'))"
   ]
  },
  {
   "cell_type": "code",
   "execution_count": 45,
   "id": "6cfdde97",
   "metadata": {},
   "outputs": [
    {
     "name": "stderr",
     "output_type": "stream",
     "text": [
      "/home/miracle/anaconda3/lib/python3.8/site-packages/sklearn/base.py:450: UserWarning: X does not have valid feature names, but DecisionTreeClassifier was fitted with feature names\n",
      "  warnings.warn(\n"
     ]
    },
    {
     "data": {
      "text/plain": [
       "array(['coffee'], dtype=object)"
      ]
     },
     "execution_count": 45,
     "metadata": {},
     "output_type": "execute_result"
    }
   ],
   "source": [
    "input_data=(118 ,33 ,30 ,24.131797 ,67.225123 ,6.362608 ,173.322839 )\n",
    "input_as_arr = np.asarray(input_data) #Coverting the input_data to numpy arrary\n",
    "input_reshape = input_as_arr.reshape(1,-1)# Reshaping the input data\n",
    "prediction =load_model.predict(input_reshape)\n",
    "prediction"
   ]
  },
  {
   "cell_type": "code",
   "execution_count": 46,
   "id": "3726b12e",
   "metadata": {},
   "outputs": [],
   "source": [
    "#/home/miracle/Documents/crop recommend"
   ]
  },
  {
   "cell_type": "code",
   "execution_count": 47,
   "id": "cd940397",
   "metadata": {},
   "outputs": [
    {
     "name": "stdout",
     "output_type": "stream",
     "text": [
      "4.0\n"
     ]
    }
   ],
   "source": [
    "print(pickle.format_version)\n"
   ]
  },
  {
   "cell_type": "code",
   "execution_count": 48,
   "id": "5e8d10a7",
   "metadata": {},
   "outputs": [
    {
     "name": "stdout",
     "output_type": "stream",
     "text": [
      "Requirement already satisfied: pickle-mixin in /home/miracle/anaconda3/lib/python3.8/site-packages (1.0.2)\n",
      "Note: you may need to restart the kernel to use updated packages.\n"
     ]
    }
   ],
   "source": [
    "pip install pickle-mixin"
   ]
  },
  {
   "cell_type": "code",
   "execution_count": 49,
   "id": "c5bd3dc9",
   "metadata": {},
   "outputs": [
    {
     "name": "stdout",
     "output_type": "stream",
     "text": [
      "Requirement already satisfied: pickle-mixin in /home/miracle/anaconda3/lib/python3.8/site-packages (1.0.2)\n",
      "Note: you may need to restart the kernel to use updated packages.\n"
     ]
    }
   ],
   "source": [
    "pip install pickle-mixin"
   ]
  },
  {
   "cell_type": "code",
   "execution_count": 50,
   "id": "01762d97",
   "metadata": {},
   "outputs": [
    {
     "name": "stdout",
     "output_type": "stream",
     "text": [
      "1.0.2\n"
     ]
    }
   ],
   "source": [
    "import sklearn\n",
    "print ( sklearn.__version__)\n"
   ]
  },
  {
   "cell_type": "code",
   "execution_count": 59,
   "id": "4d51306a",
   "metadata": {},
   "outputs": [
    {
     "name": "stdout",
     "output_type": "stream",
     "text": [
      "Collecting package metadata (current_repodata.json): done\n",
      "Solving environment: done\n",
      "\n",
      "## Package Plan ##\n",
      "\n",
      "  environment location: /home/miracle/anaconda3\n",
      "\n",
      "  added / updated specs:\n",
      "    - conda\n",
      "\n",
      "\n",
      "The following packages will be downloaded:\n",
      "\n",
      "    package                    |            build\n",
      "    ---------------------------|-----------------\n",
      "    _anaconda_depends-2022.05  |           py38_0           7 KB\n",
      "    aiohttp-3.8.1              |   py38h7f8727e_1         525 KB\n",
      "    aiosignal-1.2.0            |     pyhd3eb1b0_0          12 KB\n",
      "    anaconda-client-1.11.0     |   py38h06a4308_0         149 KB\n",
      "    anaconda-project-0.11.1    |   py38h06a4308_0         496 KB\n",
      "    anyio-3.5.0                |   py38h06a4308_0         165 KB\n",
      "    argon2-cffi-21.3.0         |     pyhd3eb1b0_0          15 KB\n",
      "    argon2-cffi-bindings-21.2.0|   py38h7f8727e_0          33 KB\n",
      "    astropy-5.1                |   py38h7deecbd_0         6.7 MB\n",
      "    asttokens-2.0.5            |     pyhd3eb1b0_0          20 KB\n",
      "    async-timeout-4.0.2        |   py38h06a4308_0          11 KB\n",
      "    automat-20.2.0             |             py_0          31 KB\n",
      "    backports-1.1              |     pyhd3eb1b0_0           4 KB\n",
      "    bcrypt-3.2.0               |   py38h5eee18b_1          41 KB\n",
      "    bitarray-2.5.1             |   py38h5eee18b_0         155 KB\n",
      "    bkcharts-0.2               |   py38h06a4308_1         132 KB\n",
      "    black-22.6.0               |   py38h06a4308_0         223 KB\n",
      "    blosc-1.21.0               |       h4ff587b_1          59 KB\n",
      "    bokeh-2.4.3                |   py38h06a4308_0         7.7 MB\n",
      "    boto3-1.24.28              |   py38h06a4308_0         114 KB\n",
      "    botocore-1.27.28           |   py38h06a4308_0         4.6 MB\n",
      "    bottleneck-1.3.5           |   py38h7deecbd_0         115 KB\n",
      "    brotli-1.0.9               |       h5eee18b_7          18 KB\n",
      "    brotli-bin-1.0.9           |       h5eee18b_7          19 KB\n",
      "    brunsli-0.1                |       h2531618_0         164 KB\n",
      "    c-ares-1.18.1              |       h7f8727e_0         114 KB\n",
      "    cachetools-4.2.2           |     pyhd3eb1b0_0          13 KB\n",
      "    certifi-2022.9.24          |   py38h06a4308_0         154 KB\n",
      "    cfitsio-3.470              |       hf0d0db6_6         814 KB\n",
      "    charls-2.2.0               |       h2531618_0         117 KB\n",
      "    colorcet-3.0.0             |   py38h06a4308_0         1.8 MB\n",
      "    conda-22.9.0               |   py38h06a4308_0         884 KB\n",
      "    conda-content-trust-0.1.3  |   py38h06a4308_0          70 KB\n",
      "    conda-pack-0.6.0           |     pyhd3eb1b0_0          29 KB\n",
      "    conda-package-handling-1.9.0|   py38h5eee18b_0         887 KB\n",
      "    conda-repo-cli-1.0.20      |   py38h06a4308_0         107 KB\n",
      "    conda-token-0.4.0          |     pyhd3eb1b0_0          13 KB\n",
      "    constantly-15.1.0          |     pyh2b92418_0          10 KB\n",
      "    cssselect-1.1.0            |     pyhd3eb1b0_0          18 KB\n",
      "    curl-7.84.0                |       h5eee18b_0          79 KB\n",
      "    cycler-0.11.0              |     pyhd3eb1b0_0          12 KB\n",
      "    cython-0.29.32             |   py38h6a678d5_0         2.0 MB\n",
      "    daal4py-2021.6.0           |   py38h79cecc1_1         9.1 MB\n",
      "    dal-2021.6.0               |     hdb19cb5_916        35.5 MB\n",
      "    dask-2022.2.1              |     pyhd3eb1b0_0           5 KB\n",
      "    dask-core-2022.2.1         |     pyhd3eb1b0_0         747 KB\n",
      "    dataclasses-0.8            |     pyh6d0b6a4_7           8 KB\n",
      "    datashader-0.14.1          |   py38h06a4308_0        16.5 MB\n",
      "    datashape-0.5.4            |   py38h06a4308_1         103 KB\n",
      "    distributed-2022.2.1       |     pyhd3eb1b0_0         659 KB\n",
      "    et_xmlfile-1.1.0           |   py38h06a4308_0          10 KB\n",
      "    executing-0.8.3            |     pyhd3eb1b0_0          18 KB\n",
      "    expat-2.4.9                |       h6a678d5_0         156 KB\n",
      "    filelock-3.6.0             |     pyhd3eb1b0_0          12 KB\n",
      "    flask-2.1.3                |   py38h06a4308_0         129 KB\n",
      "    fonttools-4.25.0           |     pyhd3eb1b0_0         632 KB\n",
      "    frozenlist-1.2.0           |   py38h7f8727e_0          79 KB\n",
      "    fsspec-2022.7.1            |   py38h06a4308_0         207 KB\n",
      "    gensim-4.1.2               |   py38h295c915_0        18.3 MB\n",
      "    gmp-6.2.1                  |       h295c915_3         544 KB\n",
      "    gmpy2-2.1.2                |   py38heeb90bb_0         191 KB\n",
      "    google-api-core-2.10.1     |   py38h06a4308_0         118 KB\n",
      "    google-auth-2.6.0          |     pyhd3eb1b0_0          83 KB\n",
      "    google-cloud-core-2.2.2    |     pyhd3eb1b0_0          26 KB\n",
      "    google-cloud-storage-1.43.0|   py38h06a4308_0         119 KB\n",
      "    google-crc32c-1.1.2        |   py38h27cfd23_0          23 KB\n",
      "    google-resumable-media-1.3.1|     pyhd3eb1b0_1          41 KB\n",
      "    googleapis-common-protos-1.56.4|   py38h06a4308_0         129 KB\n",
      "    greenlet-1.1.1             |   py38h295c915_0          82 KB\n",
      "    grpcio-1.42.0              |   py38hce63b2e_0         2.1 MB\n",
      "    heapdict-1.0.1             |     pyhd3eb1b0_0           8 KB\n",
      "    holoviews-1.15.0           |   py38h06a4308_0         4.0 MB\n",
      "    hvplot-0.8.0               |   py38h06a4308_0         3.0 MB\n",
      "    hyperlink-21.0.0           |     pyhd3eb1b0_0          70 KB\n",
      "    imagecodecs-2021.8.26      |   py38hf0132c2_1         6.1 MB\n",
      "    imageio-2.19.3             |   py38h06a4308_0         3.2 MB\n",
      "    incremental-21.3.0         |     pyhd3eb1b0_0          17 KB\n",
      "    intake-0.6.5               |     pyhd3eb1b0_0         178 KB\n",
      "    intel-openmp-2021.4.0      |    h06a4308_3561         4.2 MB\n",
      "    ipykernel-6.15.2           |   py38h06a4308_0         190 KB\n",
      "    ipywidgets-7.6.5           |     pyhd3eb1b0_1         105 KB\n",
      "    itemadapter-0.3.0          |     pyhd3eb1b0_0          13 KB\n",
      "    itemloaders-1.0.4          |     pyhd3eb1b0_1          14 KB\n",
      "    itsdangerous-2.0.1         |     pyhd3eb1b0_0          18 KB\n",
      "    jdcal-1.4.1                |     pyhd3eb1b0_0          10 KB\n",
      "    jmespath-0.10.0            |     pyhd3eb1b0_0          22 KB\n",
      "    joblib-1.1.0               |     pyhd3eb1b0_0         211 KB\n",
      "    jq-1.6                     |    h27cfd23_1000         257 KB\n",
      "    json5-0.9.6                |     pyhd3eb1b0_0          21 KB\n",
      "    jsonschema-4.16.0          |   py38h06a4308_0         128 KB\n",
      "    jupyter-1.0.0              |   py38h06a4308_8           7 KB\n",
      "    jupyter_client-7.3.5       |   py38h06a4308_0         192 KB\n",
      "    jupyter_console-6.4.3      |     pyhd3eb1b0_0          23 KB\n",
      "    jupyter_core-4.11.1        |   py38h06a4308_0          76 KB\n",
      "    jupyter_server-1.18.1      |   py38h06a4308_0         356 KB\n",
      "    jupyterlab-3.4.4           |   py38h06a4308_0         3.7 MB\n",
      "    jupyterlab_server-2.15.2   |   py38h06a4308_0          75 KB\n",
      "    jxrlib-1.1                 |       h7b6447c_2         223 KB\n",
      "    kiwisolver-1.4.2           |   py38h295c915_0          83 KB\n",
      "    lerc-3.0                   |       h295c915_0         196 KB\n",
      "    libaec-1.0.4               |       he6710b0_1          32 KB\n",
      "    libarchive-3.6.1           |       hab531cd_0         815 KB\n",
      "    libbrotlicommon-1.0.9      |       h5eee18b_7          70 KB\n",
      "    libbrotlidec-1.0.9         |       h5eee18b_7          31 KB\n",
      "    libbrotlienc-1.0.9         |       h5eee18b_7         264 KB\n",
      "    libcrc32c-1.1.1            |       he6710b0_2          20 KB\n",
      "    libcurl-7.84.0             |       h91b91d3_0         337 KB\n",
      "    libdeflate-1.8             |       h7f8727e_5          51 KB\n",
      "    libev-4.33                 |       h7f8727e_1         111 KB\n",
      "    libgfortran-ng-7.5.0       |      ha8ba4b0_17          22 KB\n",
      "    libgfortran4-7.5.0         |      ha8ba4b0_17         995 KB\n",
      "    libidn2-2.3.2              |       h7f8727e_0          81 KB\n",
      "    liblief-0.11.5             |       h295c915_1         1.7 MB\n",
      "    libllvm11-11.1.0           |       h9e868ea_6        24.1 MB\n",
      "    libnghttp2-1.46.0          |       hce63b2e_0         680 KB\n",
      "    libprotobuf-3.20.1         |       h4ff587b_0         2.1 MB\n",
      "    libssh2-1.10.0             |       h8f2d780_0         274 KB\n",
      "    libtiff-4.4.0              |       hecacb30_0         471 KB\n",
      "    libunistring-0.9.10        |       h27cfd23_0         536 KB\n",
      "    libwebp-1.2.4              |       h11a3e52_0          79 KB\n",
      "    libwebp-base-1.2.4         |       h5eee18b_0         347 KB\n",
      "    libzopfli-1.0.3            |       he6710b0_0         171 KB\n",
      "    llvmlite-0.38.0            |   py38h4ff587b_0         2.1 MB\n",
      "    locket-1.0.0               |   py38h06a4308_0          11 KB\n",
      "    lxml-4.9.1                 |   py38h1edc446_0         1.3 MB\n",
      "    markdown-3.3.4             |   py38h06a4308_0         129 KB\n",
      "    matplotlib-3.5.2           |   py38h06a4308_0           6 KB\n",
      "    matplotlib-base-3.5.2      |   py38hf590b9c_0         5.7 MB\n",
      "    matplotlib-inline-0.1.6    |   py38h06a4308_0          16 KB\n",
      "    mccabe-0.7.0               |     pyhd3eb1b0_0          11 KB\n",
      "    mkl-2021.4.0               |     h06a4308_640       142.6 MB\n",
      "    mkl-service-2.4.0          |   py38h7f8727e_0          59 KB\n",
      "    mkl_random-1.2.2           |   py38h51133e4_0         308 KB\n",
      "    mpi-1.0                    |            mpich          13 KB\n",
      "    mpich-3.3.2                |       hc856adb_0         3.8 MB\n",
      "    msgpack-python-1.0.3       |   py38hd09550d_0          83 KB\n",
      "    multidict-6.0.2            |   py38h5eee18b_0          49 KB\n",
      "    munkres-1.1.4              |             py_0          13 KB\n",
      "    nbclassic-0.3.5            |     pyhd3eb1b0_0          22 KB\n",
      "    nbformat-5.5.0             |   py38h06a4308_0         128 KB\n",
      "    networkx-2.8.4             |   py38h06a4308_0         2.2 MB\n",
      "    nltk-3.7                   |     pyhd3eb1b0_0        1010 KB\n",
      "    nose-1.3.7                 |  pyhd3eb1b0_1008         142 KB\n",
      "    notebook-6.4.12            |   py38h06a4308_0         4.2 MB\n",
      "    numba-0.55.1               |   py38h51133e4_0         3.4 MB\n",
      "    numexpr-2.8.3              |   py38h807cd23_0         125 KB\n",
      "    numpy-1.21.5               |   py38h6c91a56_3          10 KB\n",
      "    numpy-base-1.21.5          |   py38ha15fc14_3         4.9 MB\n",
      "    olefile-0.46               |     pyhd3eb1b0_0          34 KB\n",
      "    oniguruma-6.9.7.1          |       h27cfd23_0         244 KB\n",
      "    openjpeg-2.4.0             |       h3ad879b_0         331 KB\n",
      "    openpyxl-3.0.10            |   py38h5eee18b_0         542 KB\n",
      "    pandas-1.4.4               |   py38h6a678d5_0         9.9 MB\n",
      "    panel-0.13.1               |   py38h06a4308_0        11.0 MB\n",
      "    param-1.12.0               |     pyhd3eb1b0_0          75 KB\n",
      "    parsel-1.6.0               |   py38h06a4308_0         350 KB\n",
      "    partd-1.2.0                |     pyhd3eb1b0_1          18 KB\n",
      "    patchelf-0.13              |       h295c915_0          85 KB\n",
      "    pathlib-1.0.1              |     pyhd3eb1b0_1          17 KB\n",
      "    patsy-0.5.2                |   py38h06a4308_1         276 KB\n",
      "    pep8-1.7.1                 |   py38h06a4308_1          52 KB\n",
      "    pillow-9.2.0               |   py38hace64e9_1         666 KB\n",
      "    pip-22.2.2                 |   py38h06a4308_0         2.3 MB\n",
      "    pkginfo-1.8.2              |     pyhd3eb1b0_0          27 KB\n",
      "    pkgutil-resolve-name-1.3.10|   py38h06a4308_0           9 KB\n",
      "    platformdirs-2.5.2         |   py38h06a4308_0          23 KB\n",
      "    plotly-5.9.0               |   py38h06a4308_0         4.0 MB\n",
      "    prometheus_client-0.14.1   |   py38h06a4308_0          90 KB\n",
      "    prompt_toolkit-3.0.20      |       hd3eb1b0_0          12 KB\n",
      "    protego-0.1.16             |             py_0         2.2 MB\n",
      "    protobuf-3.20.1            |   py38h295c915_0         293 KB\n",
      "    pure_eval-0.2.2            |     pyhd3eb1b0_0          14 KB\n",
      "    py-1.11.0                  |     pyhd3eb1b0_0          76 KB\n",
      "    py-lief-0.11.5             |   py38h295c915_1         1.1 MB\n",
      "    pyasn1-0.4.8               |     pyhd3eb1b0_0          54 KB\n",
      "    pyasn1-modules-0.2.8       |             py_0          72 KB\n",
      "    pyct-0.4.8                 |   py38h06a4308_1          29 KB\n",
      "    pycurl-7.45.1              |   py38h8f2d780_0         124 KB\n",
      "    pydispatcher-2.0.5         |   py38h06a4308_2          20 KB\n",
      "    pyerfa-2.0.0               |   py38h27cfd23_0         345 KB\n",
      "    pyhamcrest-2.0.2           |     pyhd3eb1b0_2          31 KB\n",
      "    pyodbc-4.0.34              |   py38h6a678d5_0          75 KB\n",
      "    pyparsing-3.0.9            |   py38h06a4308_0         152 KB\n",
      "    pyqtwebengine-5.15.7       |   py38h6a678d5_1         159 KB\n",
      "    pytest-7.1.2               |   py38h06a4308_0         448 KB\n",
      "    python-fastjsonschema-2.16.2|   py38h06a4308_0         230 KB\n",
      "    python-lsp-black-1.2.1     |   py38h06a4308_0          13 KB\n",
      "    python-lsp-server-1.5.0    |   py38h06a4308_0          89 KB\n",
      "    python-snappy-0.6.0        |   py38h2531618_3          29 KB\n",
      "    pyviz_comms-2.0.2          |     pyhd3eb1b0_0          23 KB\n",
      "    pywavelets-1.3.0           |   py38h7f8727e_0         3.5 MB\n",
      "    qt-5.15.9                  |       h06a4308_0           9 KB\n",
      "    qt-main-5.15.2             |       h327a75a_7        45.1 MB\n",
      "    qtconsole-5.3.2            |   py38h06a4308_0         176 KB\n",
      "    qtpy-2.2.0                 |   py38h06a4308_0          84 KB\n",
      "    queuelib-1.5.0             |   py38h06a4308_0         258 KB\n",
      "    requests-file-1.5.1        |     pyhd3eb1b0_0           8 KB\n",
      "    ripgrep-13.0.0             |       hbdeaff8_0         1.1 MB\n",
      "    rsa-4.7.2                  |     pyhd3eb1b0_1          28 KB\n",
      "    s3transfer-0.6.0           |   py38h06a4308_0         105 KB\n",
      "    scikit-image-0.19.2        |   py38h51133e4_0         9.9 MB\n",
      "    scikit-learn-1.0.2         |   py38h51133e4_1         5.6 MB\n",
      "    scikit-learn-intelex-2021.6.0|   py38h06a4308_0          74 KB\n",
      "    scipy-1.7.3                |   py38hc147768_0        16.6 MB\n",
      "    scrapy-2.6.2               |   py38h06a4308_0         366 KB\n",
      "    seaborn-0.11.2             |     pyhd3eb1b0_0         218 KB\n",
      "    send2trash-1.8.0           |     pyhd3eb1b0_1          19 KB\n",
      "    service_identity-18.1.0    |     pyhd3eb1b0_1          13 KB\n",
      "    setuptools-63.4.1          |   py38h06a4308_0         1.1 MB\n",
      "    smart_open-5.2.1           |   py38h06a4308_0          75 KB\n",
      "    spyder-5.3.3               |   py38h06a4308_0         9.4 MB\n",
      "    spyder-kernels-2.3.3       |   py38h06a4308_0         109 KB\n",
      "    sqlalchemy-1.4.39          |   py38h5eee18b_0         1.9 MB\n",
      "    sqlite-3.39.3              |       h5082296_0         1.1 MB\n",
      "    stack_data-0.2.0           |     pyhd3eb1b0_0          22 KB\n",
      "    statsmodels-0.13.2         |   py38h7f8727e_0         8.6 MB\n",
      "    sympy-1.10.1               |   py38h06a4308_0         9.5 MB\n",
      "    tabulate-0.8.10            |   py38h06a4308_0          45 KB\n",
      "    tbb-2021.6.0               |       hdb19cb5_0         1.4 MB\n",
      "    tbb4py-2021.6.0            |   py38hdb19cb5_0         213 KB\n",
      "    tblib-1.7.0                |     pyhd3eb1b0_0          15 KB\n",
      "    tenacity-8.0.1             |   py38h06a4308_1          34 KB\n",
      "    terminado-0.13.1           |   py38h06a4308_0          30 KB\n",
      "    threadpoolctl-2.2.0        |     pyh0d69192_0          16 KB\n",
      "    tifffile-2021.7.2          |     pyhd3eb1b0_2         135 KB\n",
      "    tldextract-3.2.0           |     pyhd3eb1b0_0          81 KB\n",
      "    toolz-0.11.2               |     pyhd3eb1b0_0          49 KB\n",
      "    tornado-6.2                |   py38h5eee18b_0         590 KB\n",
      "    tqdm-4.64.1                |   py38h06a4308_0         125 KB\n",
      "    twisted-22.2.0             |   py38h5eee18b_1         4.1 MB\n",
      "    unixodbc-2.3.11            |       h5eee18b_0         275 KB\n",
      "    w3lib-1.21.0               |     pyhd3eb1b0_0          22 KB\n",
      "    websocket-client-0.58.0    |   py38h06a4308_4          66 KB\n",
      "    werkzeug-2.0.3             |     pyhd3eb1b0_0         221 KB\n",
      "    wget-1.21.3                |       h0b77cf5_0         715 KB\n",
      "    whatthepatch-1.0.2         |   py38h06a4308_0          22 KB\n",
      "    widgetsnbextension-3.5.2   |   py38h06a4308_0         651 KB\n",
      "    xarray-0.20.1              |     pyhd3eb1b0_1         563 KB\n",
      "    xlsxwriter-3.0.3           |     pyhd3eb1b0_0         113 KB\n",
      "    xz-5.2.6                   |       h5eee18b_0         394 KB\n",
      "    yarl-1.8.1                 |   py38h5eee18b_0          87 KB\n",
      "    zfp-0.5.5                  |       h295c915_6         168 KB\n",
      "    zict-2.1.0                 |   py38h06a4308_0          20 KB\n",
      "    zlib-1.2.12                |       h5eee18b_3         103 KB\n",
      "    zope.interface-5.4.0       |   py38h7f8727e_0         301 KB\n",
      "    ------------------------------------------------------------\n",
      "                                           Total:       507.1 MB\n",
      "\n",
      "The following NEW packages will be INSTALLED:\n",
      "\n",
      "  _openmp_mutex      pkgs/main/linux-64::_openmp_mutex-5.1-1_gnu\n",
      "  aiohttp            pkgs/main/linux-64::aiohttp-3.8.1-py38h7f8727e_1\n",
      "  aiosignal          pkgs/main/noarch::aiosignal-1.2.0-pyhd3eb1b0_0\n",
      "  argon2-cffi-bindi~ pkgs/main/linux-64::argon2-cffi-bindings-21.2.0-py38h7f8727e_0\n",
      "  arrow              pkgs/main/noarch::arrow-1.2.2-pyhd3eb1b0_0\n",
      "  asttokens          pkgs/main/noarch::asttokens-2.0.5-pyhd3eb1b0_0\n",
      "  async-timeout      pkgs/main/linux-64::async-timeout-4.0.2-py38h06a4308_0\n",
      "  automat            pkgs/main/noarch::automat-20.2.0-py_0\n",
      "  bcrypt             pkgs/main/linux-64::bcrypt-3.2.0-py38h5eee18b_1\n",
      "  binaryornot        pkgs/main/noarch::binaryornot-0.4.4-pyhd3eb1b0_1\n",
      "  boto3              pkgs/main/linux-64::boto3-1.24.28-py38h06a4308_0\n",
      "  botocore           pkgs/main/linux-64::botocore-1.27.28-py38h06a4308_0\n",
      "  brotli             pkgs/main/linux-64::brotli-1.0.9-h5eee18b_7\n",
      "  brotli-bin         pkgs/main/linux-64::brotli-bin-1.0.9-h5eee18b_7\n",
      "  brunsli            pkgs/main/linux-64::brunsli-0.1-h2531618_0\n",
      "  cachetools         pkgs/main/noarch::cachetools-4.2.2-pyhd3eb1b0_0\n",
      "  cfitsio            pkgs/main/linux-64::cfitsio-3.470-hf0d0db6_6\n",
      "  charls             pkgs/main/linux-64::charls-2.2.0-h2531618_0\n",
      "  charset-normalizer pkgs/main/noarch::charset-normalizer-2.0.4-pyhd3eb1b0_0\n",
      "  colorcet           pkgs/main/linux-64::colorcet-3.0.0-py38h06a4308_0\n",
      "  conda-pack         pkgs/main/noarch::conda-pack-0.6.0-pyhd3eb1b0_0\n",
      "  constantly         pkgs/main/noarch::constantly-15.1.0-pyh2b92418_0\n",
      "  cookiecutter       pkgs/main/noarch::cookiecutter-1.7.3-pyhd3eb1b0_0\n",
      "  cssselect          pkgs/main/noarch::cssselect-1.1.0-pyhd3eb1b0_0\n",
      "  daal4py            pkgs/main/linux-64::daal4py-2021.6.0-py38h79cecc1_1\n",
      "  dal                pkgs/main/linux-64::dal-2021.6.0-hdb19cb5_916\n",
      "  dataclasses        pkgs/main/noarch::dataclasses-0.8-pyh6d0b6a4_7\n",
      "  datashader         pkgs/main/linux-64::datashader-0.14.1-py38h06a4308_0\n",
      "  datashape          pkgs/main/linux-64::datashape-0.5.4-py38h06a4308_1\n",
      "  debugpy            pkgs/main/linux-64::debugpy-1.5.1-py38h295c915_0\n",
      "  dill               pkgs/main/noarch::dill-0.3.4-pyhd3eb1b0_0\n",
      "  executing          pkgs/main/noarch::executing-0.8.3-pyhd3eb1b0_0\n",
      "  fonttools          pkgs/main/noarch::fonttools-4.25.0-pyhd3eb1b0_0\n",
      "  frozenlist         pkgs/main/linux-64::frozenlist-1.2.0-py38h7f8727e_0\n",
      "  gensim             pkgs/main/linux-64::gensim-4.1.2-py38h295c915_0\n",
      "  giflib             pkgs/main/linux-64::giflib-5.2.1-h7b6447c_0\n",
      "  google-api-core    pkgs/main/linux-64::google-api-core-2.10.1-py38h06a4308_0\n",
      "  google-auth        pkgs/main/noarch::google-auth-2.6.0-pyhd3eb1b0_0\n",
      "  google-cloud-core  pkgs/main/noarch::google-cloud-core-2.2.2-pyhd3eb1b0_0\n",
      "  google-cloud-stor~ pkgs/main/linux-64::google-cloud-storage-1.43.0-py38h06a4308_0\n",
      "  google-crc32c      pkgs/main/linux-64::google-crc32c-1.1.2-py38h27cfd23_0\n",
      "  google-resumable-~ pkgs/main/noarch::google-resumable-media-1.3.1-pyhd3eb1b0_1\n",
      "  googleapis-common~ pkgs/main/linux-64::googleapis-common-protos-1.56.4-py38h06a4308_0\n",
      "  grpcio             pkgs/main/linux-64::grpcio-1.42.0-py38hce63b2e_0\n",
      "  holoviews          pkgs/main/linux-64::holoviews-1.15.0-py38h06a4308_0\n",
      "  hvplot             pkgs/main/linux-64::hvplot-0.8.0-py38h06a4308_0\n",
      "  hyperlink          pkgs/main/noarch::hyperlink-21.0.0-pyhd3eb1b0_0\n",
      "  imagecodecs        pkgs/main/linux-64::imagecodecs-2021.8.26-py38hf0132c2_1\n",
      "  importlib_resourc~ pkgs/main/noarch::importlib_resources-5.2.0-pyhd3eb1b0_1\n",
      "  incremental        pkgs/main/noarch::incremental-21.3.0-pyhd3eb1b0_0\n",
      "  inflection         pkgs/main/linux-64::inflection-0.5.1-py38h06a4308_0\n",
      "  intake             pkgs/main/noarch::intake-0.6.5-pyhd3eb1b0_0\n",
      "  itemadapter        pkgs/main/noarch::itemadapter-0.3.0-pyhd3eb1b0_0\n",
      "  itemloaders        pkgs/main/noarch::itemloaders-1.0.4-pyhd3eb1b0_1\n",
      "  jellyfish          pkgs/main/linux-64::jellyfish-0.9.0-py38h7f8727e_0\n",
      "  jinja2-time        pkgs/main/noarch::jinja2-time-0.2.0-pyhd3eb1b0_3\n",
      "  jmespath           pkgs/main/noarch::jmespath-0.10.0-pyhd3eb1b0_0\n",
      "  jq                 pkgs/main/linux-64::jq-1.6-h27cfd23_1000\n",
      "  jxrlib             pkgs/main/linux-64::jxrlib-1.1-h7b6447c_2\n",
      "  lerc               pkgs/main/linux-64::lerc-3.0-h295c915_0\n",
      "  libaec             pkgs/main/linux-64::libaec-1.0.4-he6710b0_1\n",
      "  libbrotlicommon    pkgs/main/linux-64::libbrotlicommon-1.0.9-h5eee18b_7\n",
      "  libbrotlidec       pkgs/main/linux-64::libbrotlidec-1.0.9-h5eee18b_7\n",
      "  libbrotlienc       pkgs/main/linux-64::libbrotlienc-1.0.9-h5eee18b_7\n",
      "  libclang           pkgs/main/linux-64::libclang-10.0.1-default_hb85057a_2\n",
      "  libcrc32c          pkgs/main/linux-64::libcrc32c-1.1.1-he6710b0_2\n",
      "  libdeflate         pkgs/main/linux-64::libdeflate-1.8-h7f8727e_5\n",
      "  libevent           pkgs/main/linux-64::libevent-2.1.12-h8f2d780_0\n",
      "  libgfortran4       pkgs/main/linux-64::libgfortran4-7.5.0-ha8ba4b0_17\n",
      "  libgomp            pkgs/main/linux-64::libgomp-11.2.0-h1234567_1\n",
      "  libidn2            pkgs/main/linux-64::libidn2-2.3.2-h7f8727e_0\n",
      "  libllvm11          pkgs/main/linux-64::libllvm11-11.1.0-h9e868ea_6\n",
      "  libnghttp2         pkgs/main/linux-64::libnghttp2-1.46.0-hce63b2e_0\n",
      "  libpq              pkgs/main/linux-64::libpq-12.9-h16c4e8d_3\n",
      "  libprotobuf        pkgs/main/linux-64::libprotobuf-3.20.1-h4ff587b_0\n",
      "  libunistring       pkgs/main/linux-64::libunistring-0.9.10-h27cfd23_0\n",
      "  libwebp            pkgs/main/linux-64::libwebp-1.2.4-h11a3e52_0\n",
      "  libxkbcommon       pkgs/main/linux-64::libxkbcommon-1.0.1-hfa300c1_0\n",
      "  libzopfli          pkgs/main/linux-64::libzopfli-1.0.3-he6710b0_0\n",
      "  markdown           pkgs/main/linux-64::markdown-3.3.4-py38h06a4308_0\n",
      "  matplotlib-inline  pkgs/main/linux-64::matplotlib-inline-0.1.6-py38h06a4308_0\n",
      "  mpi                pkgs/main/linux-64::mpi-1.0-mpich\n",
      "  mpich              pkgs/main/linux-64::mpich-3.3.2-hc856adb_0\n",
      "  multidict          pkgs/main/linux-64::multidict-6.0.2-py38h5eee18b_0\n",
      "  munkres            pkgs/main/noarch::munkres-1.1.4-py_0\n",
      "  nspr               pkgs/main/linux-64::nspr-4.33-h295c915_0\n",
      "  nss                pkgs/main/linux-64::nss-3.74-h0370c37_0\n",
      "  oniguruma          pkgs/main/linux-64::oniguruma-6.9.7.1-h27cfd23_0\n",
      "  openjpeg           pkgs/main/linux-64::openjpeg-2.4.0-h3ad879b_0\n",
      "  panel              pkgs/main/linux-64::panel-0.13.1-py38h06a4308_0\n",
      "  param              pkgs/main/noarch::param-1.12.0-pyhd3eb1b0_0\n",
      "  parsel             pkgs/main/linux-64::parsel-1.6.0-py38h06a4308_0\n",
      "  pathlib            pkgs/main/noarch::pathlib-1.0.1-pyhd3eb1b0_1\n",
      "  pkgutil-resolve-n~ pkgs/main/linux-64::pkgutil-resolve-name-1.3.10-py38h06a4308_0\n",
      "  platformdirs       pkgs/main/linux-64::platformdirs-2.5.2-py38h06a4308_0\n",
      "  plotly             pkgs/main/linux-64::plotly-5.9.0-py38h06a4308_0\n",
      "  poyo               pkgs/main/noarch::poyo-0.5.0-pyhd3eb1b0_0\n",
      "  protego            pkgs/main/noarch::protego-0.1.16-py_0\n",
      "  protobuf           pkgs/main/linux-64::protobuf-3.20.1-py38h295c915_0\n",
      "  pure_eval          pkgs/main/noarch::pure_eval-0.2.2-pyhd3eb1b0_0\n",
      "  pyasn1             pkgs/main/noarch::pyasn1-0.4.8-pyhd3eb1b0_0\n",
      "  pyasn1-modules     pkgs/main/noarch::pyasn1-modules-0.2.8-py_0\n",
      "  pyct               pkgs/main/linux-64::pyct-0.4.8-py38h06a4308_1\n",
      "  pydispatcher       pkgs/main/linux-64::pydispatcher-2.0.5-py38h06a4308_2\n",
      "  pyhamcrest         pkgs/main/noarch::pyhamcrest-2.0.2-pyhd3eb1b0_2\n",
      "  pyqt5-sip          pkgs/main/linux-64::pyqt5-sip-12.11.0-py38h6a678d5_1\n",
      "  pyqtwebengine      pkgs/main/linux-64::pyqtwebengine-5.15.7-py38h6a678d5_1\n",
      "  python-fastjsonsc~ pkgs/main/linux-64::python-fastjsonschema-2.16.2-py38h06a4308_0\n",
      "  python-lsp-black   pkgs/main/linux-64::python-lsp-black-1.2.1-py38h06a4308_0\n",
      "  python-lsp-jsonrpc pkgs/main/noarch::python-lsp-jsonrpc-1.0.0-pyhd3eb1b0_0\n",
      "  python-lsp-server  pkgs/main/linux-64::python-lsp-server-1.5.0-py38h06a4308_0\n",
      "  python-slugify     pkgs/main/noarch::python-slugify-5.0.2-pyhd3eb1b0_0\n",
      "  python-snappy      pkgs/main/linux-64::python-snappy-0.6.0-py38h2531618_3\n",
      "  pyviz_comms        pkgs/main/noarch::pyviz_comms-2.0.2-pyhd3eb1b0_0\n",
      "  qstylizer          pkgs/main/noarch::qstylizer-0.1.10-pyhd3eb1b0_0\n",
      "  qt-main            pkgs/main/linux-64::qt-main-5.15.2-h327a75a_7\n",
      "  qt-webengine       pkgs/main/linux-64::qt-webengine-5.15.9-hd2b0992_4\n",
      "  qtwebkit           pkgs/main/linux-64::qtwebkit-5.212-h4eab89a_4\n",
      "  queuelib           pkgs/main/linux-64::queuelib-1.5.0-py38h06a4308_0\n",
      "  requests-file      pkgs/main/noarch::requests-file-1.5.1-pyhd3eb1b0_0\n",
      "  rsa                pkgs/main/noarch::rsa-4.7.2-pyhd3eb1b0_1\n",
      "  s3transfer         pkgs/main/linux-64::s3transfer-0.6.0-py38h06a4308_0\n",
      "  scikit-learn-inte~ pkgs/main/linux-64::scikit-learn-intelex-2021.6.0-py38h06a4308_0\n",
      "  scrapy             pkgs/main/linux-64::scrapy-2.6.2-py38h06a4308_0\n",
      "  service_identity   pkgs/main/noarch::service_identity-18.1.0-pyhd3eb1b0_1\n",
      "  smart_open         pkgs/main/linux-64::smart_open-5.2.1-py38h06a4308_0\n",
      "  stack_data         pkgs/main/noarch::stack_data-0.2.0-pyhd3eb1b0_0\n",
      "  tabulate           pkgs/main/linux-64::tabulate-0.8.10-py38h06a4308_0\n",
      "  tbb4py             pkgs/main/linux-64::tbb4py-2021.6.0-py38hdb19cb5_0\n",
      "  tenacity           pkgs/main/linux-64::tenacity-8.0.1-py38h06a4308_1\n",
      "  text-unidecode     pkgs/main/noarch::text-unidecode-1.3-pyhd3eb1b0_0\n",
      "  tinycss            pkgs/main/noarch::tinycss-0.4-pyhd3eb1b0_1002\n",
      "  tldextract         pkgs/main/noarch::tldextract-3.2.0-pyhd3eb1b0_0\n",
      "  tomli              pkgs/main/linux-64::tomli-2.0.1-py38h06a4308_0\n",
      "  tomlkit            pkgs/main/linux-64::tomlkit-0.11.1-py38h06a4308_0\n",
      "  twisted            pkgs/main/linux-64::twisted-22.2.0-py38h5eee18b_1\n",
      "  typing-extensions  pkgs/main/linux-64::typing-extensions-4.3.0-py38h06a4308_0\n",
      "  unidecode          pkgs/main/noarch::unidecode-1.2.0-pyhd3eb1b0_0\n",
      "  w3lib              pkgs/main/noarch::w3lib-1.21.0-pyhd3eb1b0_0\n",
      "  websocket-client   pkgs/main/linux-64::websocket-client-0.58.0-py38h06a4308_4\n",
      "  wget               pkgs/main/linux-64::wget-1.21.3-h0b77cf5_0\n",
      "  whatthepatch       pkgs/main/linux-64::whatthepatch-1.0.2-py38h06a4308_0\n",
      "  xarray             pkgs/main/noarch::xarray-0.20.1-pyhd3eb1b0_1\n",
      "  yarl               pkgs/main/linux-64::yarl-1.8.1-py38h5eee18b_0\n",
      "  zfp                pkgs/main/linux-64::zfp-0.5.5-h295c915_6\n",
      "\n",
      "The following packages will be REMOVED:\n",
      "\n",
      "  argh-0.26.2-py38_0\n",
      "  asn1crypto-1.4.0-py_0\n",
      "  async_generator-1.10-pyhd3eb1b0_0\n",
      "  backports.shutil_get_terminal_size-1.0.0-pyhd3eb1b0_3\n",
      "  boto-2.49.0-py38_0\n",
      "  cairo-1.16.0-hf32fb01_1\n",
      "  contextlib2-0.6.0.post1-py_0\n",
      "  fastcache-1.1.0-py38h7b6447c_0\n",
      "  fribidi-1.0.10-h7b6447c_0\n",
      "  get_terminal_size-1.0.0-haa9412d_0\n",
      "  gevent-21.1.2-py38h27cfd23_1\n",
      "  graphite2-1.3.14-h23475e2_0\n",
      "  harfbuzz-2.8.0-h6f93f22_0\n",
      "  html5lib-1.1-py_0\n",
      "  jbig-2.1-hdba287a_0\n",
      "  jupyter-packaging-0.7.12-pyhd3eb1b0_0\n",
      "  libllvm9-9.0.1-h4a3c616_1\n",
      "  libtool-2.4.6-h7b6447c_1005\n",
      "  libuv-1.40.0-h7b6447c_0\n",
      "  more-itertools-8.7.0-pyhd3eb1b0_0\n",
      "  pandoc-2.12-h06a4308_0\n",
      "  pango-1.45.3-hd140c19_0\n",
      "  path-15.1.2-py38h06a4308_0\n",
      "  path.py-12.5.0-0\n",
      "  pathlib2-2.3.5-py38h06a4308_2\n",
      "  pathtools-0.1.2-pyhd3eb1b0_1\n",
      "  pixman-0.40.0-h7b6447c_0\n",
      "  pyls-black-0.4.6-hd3eb1b0_0\n",
      "  python-jsonrpc-server-0.4.0-py_0\n",
      "  python-language-server-0.36.2-pyhd3eb1b0_0\n",
      "  simplegeneric-0.8.1-py38_2\n",
      "  singledispatch-3.6.1-pyhd3eb1b0_1001\n",
      "  sphinxcontrib-1.0-py38_1\n",
      "  sphinxcontrib-websupport-1.2.4-py_0\n",
      "  unicodecsv-0.14.1-py38_0\n",
      "  xlwt-1.3.0-py38_0\n",
      "  xmltodict-0.12.0-py_0\n",
      "  zope.event-4.5.0-py38_0\n",
      "\n",
      "The following packages will be UPDATED:\n",
      "\n",
      "  _anaconda_depends                          2020.07-py38_0 --> 2022.05-py38_0\n",
      "  anaconda-client                              1.7.2-py38_0 --> 1.11.0-py38h06a4308_0\n",
      "  anaconda-project   pkgs/main/noarch::anaconda-project-0.~ --> pkgs/main/linux-64::anaconda-project-0.11.1-py38h06a4308_0\n",
      "  anyio                                2.2.0-py38h06a4308_1 --> 3.5.0-py38h06a4308_0\n",
      "  argon2-cffi        pkgs/main/linux-64::argon2-cffi-20.1.~ --> pkgs/main/noarch::argon2-cffi-21.3.0-pyhd3eb1b0_0\n",
      "  astroid                                2.5-py38h06a4308_1 --> 2.11.7-py38h06a4308_0\n",
      "  astropy                              4.2.1-py38h27cfd23_1 --> 5.1-py38h7deecbd_0\n",
      "  attrs                                 20.3.0-pyhd3eb1b0_0 --> 21.4.0-pyhd3eb1b0_0\n",
      "  autopep8                               1.5.6-pyhd3eb1b0_0 --> 1.6.0-pyhd3eb1b0_1\n",
      "  babel                                  2.9.0-pyhd3eb1b0_0 --> 2.9.1-pyhd3eb1b0_0\n",
      "  backports                                1.0-pyhd3eb1b0_2 --> 1.1-pyhd3eb1b0_0\n",
      "  beautifulsoup4     pkgs/main/noarch::beautifulsoup4-4.9.~ --> pkgs/main/linux-64::beautifulsoup4-4.11.1-py38h06a4308_0\n",
      "  bitarray                             2.1.0-py38h27cfd23_1 --> 2.5.1-py38h5eee18b_0\n",
      "  bkcharts                                       0.2-py38_0 --> 0.2-py38h06a4308_1\n",
      "  black                pkgs/main/noarch::black-19.10b0-py_0 --> pkgs/main/linux-64::black-22.6.0-py38h06a4308_0\n",
      "  bleach                                 3.3.0-pyhd3eb1b0_0 --> 4.1.0-pyhd3eb1b0_0\n",
      "  blosc                                   1.21.0-h8c45485_0 --> 1.21.0-h4ff587b_1\n",
      "  bokeh                                2.3.2-py38h06a4308_0 --> 2.4.3-py38h06a4308_0\n",
      "  bottleneck                           1.3.2-py38heb32a55_1 --> 1.3.5-py38h7deecbd_0\n",
      "  c-ares                                  1.17.1-h27cfd23_0 --> 1.18.1-h7f8727e_0\n",
      "  certifi                          2022.6.15-py38h06a4308_0 --> 2022.9.24-py38h06a4308_0\n",
      "  cffi                                1.14.5-py38h261ae71_0 --> 1.15.1-py38h74dc2b5_0\n",
      "  click              pkgs/main/noarch::click-7.1.2-pyhd3eb~ --> pkgs/main/linux-64::click-8.0.4-py38h06a4308_0\n",
      "  cloudpickle                                    1.6.0-py_0 --> 2.0.0-pyhd3eb1b0_0\n"
     ]
    },
    {
     "name": "stdout",
     "output_type": "stream",
     "text": [
      "  colorama           pkgs/main/noarch::colorama-0.4.4-pyhd~ --> pkgs/main/linux-64::colorama-0.4.5-py38h06a4308_0\r\n",
      "  conda                               4.12.0-py38h06a4308_0 --> 22.9.0-py38h06a4308_0\r\n",
      "  conda-content-tru~ pkgs/main/noarch::conda-content-trust~ --> pkgs/main/linux-64::conda-content-trust-0.1.3-py38h06a4308_0\r\n",
      "  conda-package-han~                   1.7.3-py38h27cfd23_1 --> 1.9.0-py38h5eee18b_0\r\n",
      "  conda-repo-cli     pkgs/main/noarch::conda-repo-cli-1.0.~ --> pkgs/main/linux-64::conda-repo-cli-1.0.20-py38h06a4308_0\r\n",
      "  conda-token                            0.3.0-pyhd3eb1b0_0 --> 0.4.0-pyhd3eb1b0_0\r\n",
      "  cryptography                         3.4.7-py38hd23ed53_0 --> 37.0.1-py38h9ce1e76_0\r\n",
      "  curl                                    7.71.1-hbc83047_1 --> 7.84.0-h5eee18b_0\r\n",
      "  cycler             pkgs/main/linux-64::cycler-0.10.0-py3~ --> pkgs/main/noarch::cycler-0.11.0-pyhd3eb1b0_0\r\n",
      "  cython                             0.29.23-py38h2531618_0 --> 0.29.32-py38h6a678d5_0\r\n",
      "  dask                                2021.4.0-pyhd3eb1b0_0 --> 2022.2.1-pyhd3eb1b0_0\r\n",
      "  dask-core                           2021.4.0-pyhd3eb1b0_0 --> 2022.2.1-pyhd3eb1b0_0\r\n",
      "  decorator                              5.0.6-pyhd3eb1b0_0 --> 5.1.1-pyhd3eb1b0_0\r\n",
      "  distributed        pkgs/main/linux-64::distributed-2021.~ --> pkgs/main/noarch::distributed-2022.2.1-pyhd3eb1b0_0\r\n",
      "  docutils                            0.17.1-py38h06a4308_1 --> 0.18.1-py38h06a4308_3\r\n",
      "  entrypoints                                    0.3-py38_0 --> 0.4-py38h06a4308_0\r\n",
      "  et_xmlfile         pkgs/main/noarch::et_xmlfile-1.0.1-py~ --> pkgs/main/linux-64::et_xmlfile-1.1.0-py38h06a4308_0\r\n",
      "  expat                                    2.3.0-h2531618_2 --> 2.4.9-h6a678d5_0\r\n",
      "  filelock                              3.0.12-pyhd3eb1b0_1 --> 3.6.0-pyhd3eb1b0_0\r\n",
      "  flake8                                 3.9.0-pyhd3eb1b0_0 --> 4.0.1-pyhd3eb1b0_1\r\n",
      "  flask              pkgs/main/noarch::flask-1.1.2-pyhd3eb~ --> pkgs/main/linux-64::flask-2.1.3-py38h06a4308_0\r\n",
      "  freetype                                2.10.4-h5ab3b9f_0 --> 2.11.0-h70c0345_0\r\n",
      "  fsspec             pkgs/main/noarch::fsspec-0.9.0-pyhd3e~ --> pkgs/main/linux-64::fsspec-2022.7.1-py38h06a4308_0\r\n",
      "  glib                                    2.68.1-h36276a3_0 --> 2.69.1-h4ff587b_1\r\n",
      "  gmp                                      6.2.1-h2531618_2 --> 6.2.1-h295c915_3\r\n",
      "  gmpy2                                2.0.8-py38hd5f6e3b_3 --> 2.1.2-py38heeb90bb_0\r\n",
      "  greenlet                             1.0.0-py38h2531618_2 --> 1.1.1-py38h295c915_0\r\n",
      "  idna                                    2.10-pyhd3eb1b0_0 --> 3.3-pyhd3eb1b0_0\r\n",
      "  imageio            pkgs/main/noarch::imageio-2.9.0-pyhd3~ --> pkgs/main/linux-64::imageio-2.19.3-py38h06a4308_0\r\n",
      "  imagesize          pkgs/main/noarch::imagesize-1.2.0-pyh~ --> pkgs/main/linux-64::imagesize-1.4.1-py38h06a4308_0\r\n",
      "  importlib-metadata                  3.10.0-py38h06a4308_0 --> 4.11.3-py38h06a4308_0\r\n",
      "  importlib_metadata                      3.10.0-hd3eb1b0_0 --> 4.11.3-hd3eb1b0_0\r\n",
      "  intel-openmp                        2021.2.0-h06a4308_610 --> 2021.4.0-h06a4308_3561\r\n",
      "  ipykernel                            5.3.4-py38h5ca1d4c_0 --> 6.15.2-py38h06a4308_0\r\n",
      "  ipython                             7.22.0-py38hb070fc8_0 --> 7.31.1-py38h06a4308_1\r\n",
      "  ipywidgets                             7.6.3-pyhd3eb1b0_1 --> 7.6.5-pyhd3eb1b0_1\r\n",
      "  isort                                  5.8.0-pyhd3eb1b0_0 --> 5.9.3-pyhd3eb1b0_0\r\n",
      "  itsdangerous                           1.1.0-pyhd3eb1b0_0 --> 2.0.1-pyhd3eb1b0_0\r\n",
      "  jedi                                0.17.2-py38h06a4308_1 --> 0.18.1-py38h06a4308_1\r\n",
      "  jeepney                                0.6.0-pyhd3eb1b0_0 --> 0.7.1-pyhd3eb1b0_0\r\n",
      "  jinja2                                2.11.3-pyhd3eb1b0_0 --> 3.0.3-pyhd3eb1b0_0\r\n",
      "  joblib                                 1.0.1-pyhd3eb1b0_0 --> 1.1.0-pyhd3eb1b0_0\r\n",
      "  jpeg                                        9b-h024ee3a_2 --> 9e-h7f8727e_0\r\n",
      "  json5                                          0.9.5-py_0 --> 0.9.6-pyhd3eb1b0_0\r\n",
      "  jsonschema         pkgs/main/noarch::jsonschema-3.2.0-py~ --> pkgs/main/linux-64::jsonschema-4.16.0-py38h06a4308_0\r\n",
      "  jupyter                                      1.0.0-py38_7 --> 1.0.0-py38h06a4308_8\r\n",
      "  jupyter_client     pkgs/main/noarch::jupyter_client-6.1.~ --> pkgs/main/linux-64::jupyter_client-7.3.5-py38h06a4308_0\r\n",
      "  jupyter_console                        6.4.0-pyhd3eb1b0_0 --> 6.4.3-pyhd3eb1b0_0\r\n",
      "  jupyter_core                         4.7.1-py38h06a4308_0 --> 4.11.1-py38h06a4308_0\r\n",
      "  jupyter_server                       1.4.1-py38h06a4308_0 --> 1.18.1-py38h06a4308_0\r\n",
      "  jupyterlab         pkgs/main/noarch::jupyterlab-3.0.14-p~ --> pkgs/main/linux-64::jupyterlab-3.4.4-py38h06a4308_0\r\n",
      "  jupyterlab_server  pkgs/main/noarch::jupyterlab_server-2~ --> pkgs/main/linux-64::jupyterlab_server-2.15.2-py38h06a4308_0\r\n",
      "  keyring                             22.3.0-py38h06a4308_0 --> 23.4.0-py38h06a4308_0\r\n",
      "  kiwisolver                           1.3.1-py38h2531618_0 --> 1.4.2-py38h295c915_0\r\n",
      "  krb5                                    1.18.2-h173b8e3_0 --> 1.19.2-hac12032_0\r\n",
      "  ld_impl_linux-64                        2.33.1-h53a641e_7 --> 2.38-h1181459_1\r\n",
      "  libarchive                               3.4.2-h62408e4_0 --> 3.6.1-hab531cd_0\r\n",
      "  libcurl                                 7.71.1-h20c2e04_1 --> 7.84.0-h91b91d3_0\r\n",
      "  libedit                           3.1.20210216-h27cfd23_1 --> 3.1.20210910-h7f8727e_0\r\n",
      "  libev                                     4.33-h7b6447c_0 --> 4.33-h7f8727e_1\r\n",
      "  libgcc-ng                                9.1.0-hdf63c60_0 --> 11.2.0-h1234567_1\r\n",
      "  libgfortran-ng                           7.3.0-hdf63c60_0 --> 7.5.0-ha8ba4b0_17\r\n",
      "  liblief                                 0.10.1-he6710b0_0 --> 0.11.5-h295c915_1\r\n",
      "  libssh2                                  1.9.0-h1ba5d50_1 --> 1.10.0-h8f2d780_0\r\n",
      "  libstdcxx-ng                             9.1.0-hdf63c60_0 --> 11.2.0-h1234567_1\r\n",
      "  libtiff                                  4.2.0-h85742a9_0 --> 4.4.0-hecacb30_0\r\n",
      "  libwebp-base                             1.2.0-h27cfd23_0 --> 1.2.4-h5eee18b_0\r\n",
      "  libxcb                                    1.14-h7b6447c_0 --> 1.15-h7f8727e_0\r\n",
      "  libxml2                                 2.9.10-hb55368b_3 --> 2.9.14-h74e7548_0\r\n",
      "  libxslt                                 1.1.34-hc22bd24_0 --> 1.1.35-h4e12654_0\r\n",
      "  llvmlite                            0.36.0-py38h612dafd_4 --> 0.38.0-py38h4ff587b_0\r\n",
      "  locket                               0.2.1-py38h06a4308_1 --> 1.0.0-py38h06a4308_0\r\n",
      "  lxml                                 4.6.3-py38h9120a33_0 --> 4.9.1-py38h1edc446_0\r\n",
      "  lz4-c                                    1.9.3-h2531618_0 --> 1.9.3-h295c915_1\r\n",
      "  markupsafe                           1.1.1-py38h7b6447c_0 --> 2.1.1-py38h7f8727e_0\r\n",
      "  matplotlib                           3.3.4-py38h06a4308_0 --> 3.5.2-py38h06a4308_0\r\n",
      "  matplotlib-base                      3.3.4-py38h62a2d02_0 --> 3.5.2-py38hf590b9c_0\r\n",
      "  mccabe             pkgs/main/linux-64::mccabe-0.6.1-py38~ --> pkgs/main/noarch::mccabe-0.7.0-pyhd3eb1b0_0\r\n",
      "  mkl                                 2021.2.0-h06a4308_296 --> 2021.4.0-h06a4308_640\r\n",
      "  mkl-service                          2.3.0-py38h27cfd23_1 --> 2.4.0-py38h7f8727e_0\r\n",
      "  mkl_fft                              1.3.0-py38h42c9631_2 --> 1.3.1-py38hd3c417c_0\r\n",
      "  mkl_random                           1.2.1-py38ha9443f7_2 --> 1.2.2-py38h51133e4_0\r\n",
      "  msgpack-python                       1.0.2-py38hff7bd54_1 --> 1.0.3-py38hd09550d_0\r\n",
      "  mypy_extensions                              0.4.3-py38_0 --> 0.4.3-py38h06a4308_1\r\n",
      "  nbclassic                              0.2.6-pyhd3eb1b0_0 --> 0.3.5-pyhd3eb1b0_0\r\n",
      "  nbclient           pkgs/main/noarch::nbclient-0.5.3-pyhd~ --> pkgs/main/linux-64::nbclient-0.5.13-py38h06a4308_0\r\n",
      "  nbconvert                                    6.0.7-py38_0 --> 6.4.4-py38h06a4308_0\r\n",
      "  nbformat           pkgs/main/noarch::nbformat-5.1.3-pyhd~ --> pkgs/main/linux-64::nbformat-5.5.0-py38h06a4308_0\r\n",
      "  ncurses                                    6.2-he6710b0_1 --> 6.3-h5eee18b_3\r\n",
      "  nest-asyncio       pkgs/main/noarch::nest-asyncio-1.5.1-~ --> pkgs/main/linux-64::nest-asyncio-1.5.5-py38h06a4308_0\r\n",
      "  networkx              pkgs/main/noarch::networkx-2.5-py_0 --> pkgs/main/linux-64::networkx-2.8.4-py38h06a4308_0\r\n",
      "  nltk                                   3.6.1-pyhd3eb1b0_0 --> 3.7-pyhd3eb1b0_0\r\n",
      "  nose                                1.3.7-pyhd3eb1b0_1006 --> 1.3.7-pyhd3eb1b0_1008\r\n",
      "  notebook                             6.3.0-py38h06a4308_0 --> 6.4.12-py38h06a4308_0\r\n",
      "  numba                               0.53.1-py38ha9443f7_0 --> 0.55.1-py38h51133e4_0\r\n",
      "  numexpr                              2.7.3-py38h22e1b3c_1 --> 2.8.3-py38h807cd23_0\r\n",
      "  numpy                               1.20.1-py38h93e21f0_0 --> 1.21.5-py38h6c91a56_3\r\n",
      "  numpy-base                          1.20.1-py38h7d8b39e_0 --> 1.21.5-py38ha15fc14_3\r\n",
      "  numpydoc           pkgs/main/noarch::numpydoc-1.1.0-pyhd~ --> pkgs/main/linux-64::numpydoc-1.4.0-py38h06a4308_0\r\n",
      "  openpyxl           pkgs/main/noarch::openpyxl-3.0.7-pyhd~ --> pkgs/main/linux-64::openpyxl-3.0.10-py38h5eee18b_0\r\n",
      "  packaging                               20.9-pyhd3eb1b0_0 --> 21.3-pyhd3eb1b0_0\r\n",
      "  pandas                               1.2.4-py38h2531618_0 --> 1.4.4-py38h6a678d5_0\r\n",
      "  pandocfilters      pkgs/main/linux-64::pandocfilters-1.4~ --> pkgs/main/noarch::pandocfilters-1.5.0-pyhd3eb1b0_0\r\n",
      "  parso                                          0.7.0-py_0 --> 0.8.3-pyhd3eb1b0_0\r\n",
      "  partd                                  1.2.0-pyhd3eb1b0_0 --> 1.2.0-pyhd3eb1b0_1\r\n",
      "  patchelf                                  0.12-h2531618_1 --> 0.13-h295c915_0\r\n",
      "  pathspec            pkgs/main/noarch::pathspec-0.7.0-py_0 --> pkgs/main/linux-64::pathspec-0.9.0-py38h06a4308_0\r\n",
      "  patsy                                        0.5.1-py38_0 --> 0.5.2-py38h06a4308_1\r\n",
      "  pcre                                      8.44-he6710b0_0 --> 8.45-h295c915_0\r\n",
      "  pep8                                         1.7.1-py38_0 --> 1.7.1-py38h06a4308_1\r\n",
      "  pillow                               8.2.0-py38he98fc37_0 --> 9.2.0-py38hace64e9_1\r\n",
      "  pip                                 21.0.1-py38h06a4308_0 --> 22.2.2-py38h06a4308_0\r\n",
      "  pkginfo            pkgs/main/linux-64::pkginfo-1.7.0-py3~ --> pkgs/main/noarch::pkginfo-1.8.2-pyhd3eb1b0_0\r\n",
      "  pluggy                              0.13.1-py38h06a4308_0 --> 1.0.0-py38h06a4308_1\r\n",
      "  prometheus_client  pkgs/main/noarch::prometheus_client-0~ --> pkgs/main/linux-64::prometheus_client-0.14.1-py38h06a4308_0\r\n",
      "  prompt-toolkit                        3.0.17-pyh06a4308_0 --> 3.0.20-pyhd3eb1b0_0\r\n",
      "  prompt_toolkit                          3.0.17-hd3eb1b0_0 --> 3.0.20-hd3eb1b0_0\r\n",
      "  psutil                               5.8.0-py38h27cfd23_1 --> 5.9.0-py38h5eee18b_0\r\n",
      "  py                                    1.10.0-pyhd3eb1b0_0 --> 1.11.0-pyhd3eb1b0_0\r\n",
      "  py-lief                             0.10.1-py38h403a769_0 --> 0.11.5-py38h295c915_1\r\n",
      "  pycodestyle                            2.6.0-pyhd3eb1b0_0 --> 2.8.0-pyhd3eb1b0_0\r\n",
      "  pycparser                                       2.20-py_2 --> 2.21-pyhd3eb1b0_0\r\n",
      "  pycurl                            7.43.0.6-py38h1ba5d50_0 --> 7.45.1-py38h8f2d780_0\r\n",
      "  pydocstyle                             6.0.0-pyhd3eb1b0_0 --> 6.1.1-pyhd3eb1b0_0\r\n",
      "  pyerfa                               1.7.3-py38h27cfd23_0 --> 2.0.0-py38h27cfd23_0\r\n",
      "  pyflakes                               2.2.0-pyhd3eb1b0_0 --> 2.4.0-pyhd3eb1b0_0\r\n",
      "  pygments                               2.8.1-pyhd3eb1b0_0 --> 2.11.2-pyhd3eb1b0_0\r\n",
      "  pylint                               2.7.4-py38h06a4308_1 --> 2.14.5-py38h06a4308_0\r\n",
      "  pyls-spyder                            0.3.2-pyhd3eb1b0_0 --> 0.4.0-pyhd3eb1b0_0\r\n",
      "  pyodbc                              4.0.30-py38he6710b0_0 --> 4.0.34-py38h6a678d5_0\r\n",
      "  pyopenssl                             20.0.1-pyhd3eb1b0_1 --> 22.0.0-pyhd3eb1b0_0\r\n",
      "  pyparsing          pkgs/main/noarch::pyparsing-2.4.7-pyh~ --> pkgs/main/linux-64::pyparsing-3.0.9-py38h06a4308_0\r\n",
      "  pyqt                                 5.9.2-py38h05f1152_4 --> 5.15.7-py38h6a678d5_1\r\n",
      "  pyrsistent                          0.17.3-py38h7b6447c_0 --> 0.18.0-py38heee7806_0\r\n",
      "  pytest                               6.2.3-py38h06a4308_2 --> 7.1.2-py38h06a4308_0\r\n",
      "  python-dateutil                        2.8.1-pyhd3eb1b0_0 --> 2.8.2-pyhd3eb1b0_0\r\n",
      "  pytz               pkgs/main/noarch::pytz-2021.1-pyhd3eb~ --> pkgs/main/linux-64::pytz-2022.1-py38h06a4308_0\r\n",
      "  pywavelets                           1.1.1-py38h7b6447c_2 --> 1.3.0-py38h7f8727e_0\r\n",
      "  pyyaml                               5.4.1-py38h27cfd23_1 --> 6.0-py38h7f8727e_1\r\n",
      "  pyzmq                               20.0.0-py38h2531618_1 --> 23.2.0-py38h6a678d5_0\r\n",
      "  qdarkstyle                                     2.8.1-py_0 --> 3.0.2-pyhd3eb1b0_0\r\n",
      "  qt                                       5.9.7-h5867ecd_1 --> 5.15.9-h06a4308_0\r\n",
      "  qtawesome                              1.0.2-pyhd3eb1b0_0 --> 1.0.3-pyhd3eb1b0_0\r\n",
      "  qtconsole          pkgs/main/noarch::qtconsole-5.0.3-pyh~ --> pkgs/main/linux-64::qtconsole-5.3.2-py38h06a4308_0\r\n",
      "  qtpy                    pkgs/main/noarch::qtpy-1.9.0-py_0 --> pkgs/main/linux-64::qtpy-2.2.0-py38h06a4308_0\r\n",
      "  readline                                   8.1-h27cfd23_0 --> 8.1.2-h7f8727e_1\r\n",
      "  regex                             2021.4.4-py38h27cfd23_0 --> 2022.7.9-py38h5eee18b_0\r\n",
      "  requests           pkgs/main/noarch::requests-2.25.1-pyh~ --> pkgs/main/linux-64::requests-2.28.1-py38h06a4308_0\r\n",
      "  ripgrep                                          12.1.1-0 --> 13.0.0-hbdeaff8_0\r\n",
      "  rope                                          0.18.0-py_0 --> 0.22.0-pyhd3eb1b0_0\r\n",
      "  scikit-image                        0.18.1-py38ha9443f7_0 --> 0.19.2-py38h51133e4_0\r\n",
      "  scikit-learn                        0.24.1-py38ha9443f7_0 --> 1.0.2-py38h51133e4_1\r\n",
      "  scipy                                1.6.2-py38had2a1c9_1 --> 1.7.3-py38hc147768_0\r\n",
      "  seaborn                               0.11.1-pyhd3eb1b0_0 --> 0.11.2-pyhd3eb1b0_0\r\n",
      "  send2trash                             1.5.0-pyhd3eb1b0_1 --> 1.8.0-pyhd3eb1b0_1\r\n",
      "  setuptools                          52.0.0-py38h06a4308_0 --> 63.4.1-py38h06a4308_0\r\n",
      "  sip                                4.19.13-py38he6710b0_0 --> 6.6.2-py38h6a678d5_0\r\n",
      "  six                pkgs/main/linux-64::six-1.15.0-py38h0~ --> pkgs/main/noarch::six-1.16.0-pyhd3eb1b0_1\r\n",
      "  snowballstemmer                        2.1.0-pyhd3eb1b0_0 --> 2.2.0-pyhd3eb1b0_0\r\n",
      "  sortedcontainers                       2.3.0-pyhd3eb1b0_0 --> 2.4.0-pyhd3eb1b0_0\r\n",
      "  soupsieve                              2.2.1-pyhd3eb1b0_0 --> 2.3.1-pyhd3eb1b0_0\r\n",
      "  sphinx             pkgs/main/noarch::sphinx-4.0.1-pyhd3e~ --> pkgs/main/linux-64::sphinx-5.0.2-py38h06a4308_0\r\n",
      "  sphinxcontrib-htm~                     1.0.3-pyhd3eb1b0_0 --> 2.0.0-pyhd3eb1b0_0\r\n",
      "  sphinxcontrib-ser~                     1.1.4-pyhd3eb1b0_0 --> 1.1.5-pyhd3eb1b0_0\r\n",
      "  spyder                               4.2.5-py38h06a4308_0 --> 5.3.3-py38h06a4308_0\r\n",
      "  spyder-kernels                      1.10.2-py38h06a4308_0 --> 2.3.3-py38h06a4308_0\r\n",
      "  sqlalchemy                          1.4.15-py38h27cfd23_0 --> 1.4.39-py38h5eee18b_0\r\n",
      "  sqlite                                  3.35.4-hdfb4753_0 --> 3.39.3-h5082296_0\r\n",
      "  statsmodels                         0.12.2-py38h27cfd23_0 --> 0.13.2-py38h7f8727e_0\r\n",
      "  sympy                                  1.8-py38h06a4308_0 --> 1.10.1-py38h06a4308_0\r\n",
      "  tbb                                     2020.3-hfd86e86_0 --> 2021.6.0-hdb19cb5_0\r\n",
      "  terminado                            0.9.4-py38h06a4308_0 --> 0.13.1-py38h06a4308_0\r\n",
      "  testpath           pkgs/main/noarch::testpath-0.4.4-pyhd~ --> pkgs/main/linux-64::testpath-0.6.0-py38h06a4308_0\r\n",
      "  threadpoolctl                          2.1.0-pyh5ca1d4c_0 --> 2.2.0-pyh0d69192_0\r\n",
      "  tifffile           pkgs/main/linux-64::tifffile-2020.10.~ --> pkgs/main/noarch::tifffile-2021.7.2-pyhd3eb1b0_2\r\n",
      "  tk                                      8.6.10-hbc83047_0 --> 8.6.12-h1ccaba5_0\r\n",
      "  toolz                                 0.11.1-pyhd3eb1b0_0 --> 0.11.2-pyhd3eb1b0_0\r\n",
      "  tornado                                6.1-py38h27cfd23_0 --> 6.2-py38h5eee18b_0\r\n",
      "  tqdm               pkgs/main/noarch::tqdm-4.59.0-pyhd3eb~ --> pkgs/main/linux-64::tqdm-4.64.1-py38h06a4308_0\r\n",
      "  traitlets                              5.0.5-pyhd3eb1b0_0 --> 5.1.1-pyhd3eb1b0_0\r\n",
      "  typed-ast                            1.4.2-py38h27cfd23_1 --> 1.4.3-py38h7f8727e_1\r\n",
      "  typing_extensions  pkgs/main/noarch::typing_extensions-3~ --> pkgs/main/linux-64::typing_extensions-4.3.0-py38h06a4308_0\r\n",
      "  ujson                                4.0.2-py38h2531618_0 --> 5.4.0-py38h6a678d5_0\r\n",
      "  unixodbc                                 2.3.9-h7b6447c_0 --> 2.3.11-h5eee18b_0\r\n",
      "  urllib3            pkgs/main/noarch::urllib3-1.26.4-pyhd~ --> pkgs/main/linux-64::urllib3-1.26.11-py38h06a4308_0\r\n",
      "  watchdog                             1.0.2-py38h06a4308_1 --> 2.1.6-py38h06a4308_0\r\n",
      "  werkzeug                               1.0.1-pyhd3eb1b0_0 --> 2.0.3-pyhd3eb1b0_0\r\n",
      "  wheel                                 0.36.2-pyhd3eb1b0_0 --> 0.37.1-pyhd3eb1b0_0\r\n",
      "  widgetsnbextension                           3.5.1-py38_0 --> 3.5.2-py38h06a4308_0\r\n",
      "  wrapt                               1.12.1-py38h7b6447c_1 --> 1.14.1-py38h5eee18b_0\r\n",
      "  wurlitzer                            2.1.0-py38h06a4308_0 --> 3.0.2-py38h06a4308_0\r\n",
      "  xlsxwriter                             1.3.8-pyhd3eb1b0_0 --> 3.0.3-pyhd3eb1b0_0\r\n",
      "  xz                                       5.2.5-h7b6447c_0 --> 5.2.6-h5eee18b_0\r\n",
      "  zict               pkgs/main/noarch::zict-2.0.0-pyhd3eb1~ --> pkgs/main/linux-64::zict-2.1.0-py38h06a4308_0\r\n",
      "  zipp               pkgs/main/noarch::zipp-3.4.1-pyhd3eb1~ --> pkgs/main/linux-64::zipp-3.8.0-py38h06a4308_0\r\n",
      "  zlib                                    1.2.11-h7b6447c_3 --> 1.2.12-h5eee18b_3\r\n",
      "  zope.interface                       5.3.0-py38h27cfd23_0 --> 5.4.0-py38h7f8727e_0\r\n",
      "  zstd                                     1.4.5-h9ceee32_0 --> 1.5.2-ha4553b6_0\r\n",
      "\r\n",
      "The following packages will be DOWNGRADED:\r\n",
      "\r\n",
      "  appdirs                                        1.4.4-py_0 --> 1.4.4-pyhd3eb1b0_0\r\n",
      "  diff-match-patch                            20200713-py_0 --> 20200713-pyhd3eb1b0_0\r\n",
      "  heapdict                                       1.0.1-py_0 --> 1.0.1-pyhd3eb1b0_0\r\n",
      "  intervaltree                                   3.1.0-py_0 --> 3.1.0-pyhd3eb1b0_0\r\n",
      "  jdcal                                          1.4.1-py_0 --> 1.4.1-pyhd3eb1b0_0\r\n",
      "  libuuid                                  1.0.3-h1bed415_2 --> 1.0.3-h7f8727e_2\r\n",
      "  olefile                                         0.46-py_0 --> 0.46-pyhd3eb1b0_0\r\n",
      "  tblib                                          1.7.0-py_0 --> 1.7.0-pyhd3eb1b0_0\r\n",
      "  wcwidth                                        0.2.5-py_0 --> 0.2.5-pyhd3eb1b0_0\r\n",
      "\r\n",
      "\r\n",
      "\r\n",
      "Downloading and Extracting Packages\r\n"
     ]
    },
    {
     "name": "stdout",
     "output_type": "stream",
     "text": [
      "xlsxwriter-3.0.3     | 113 KB    | ##################################### | 100% \n",
      "jupyterlab_server-2. | 75 KB     | ##################################### | 100% \n",
      "google-resumable-med | 41 KB     | ##################################### | 100% \n",
      "matplotlib-inline-0. | 16 KB     | ##################################### | 100% \n",
      "pycurl-7.45.1        | 124 KB    | ##################################### | 100% \n",
      "smart_open-5.2.1     | 75 KB     | ##################################### | 100% \n",
      "spyder-5.3.3         | 9.4 MB    | ##################################### | 100% \n",
      "libidn2-2.3.2        | 81 KB     | ##################################### | 100% \n",
      "param-1.12.0         | 75 KB     | ##################################### | 100% \n",
      "tbb-2021.6.0         | 1.4 MB    | ##################################### | 100% \n",
      "filelock-3.6.0       | 12 KB     | ##################################### | 100% \n",
      "mkl-service-2.4.0    | 59 KB     | ##################################### | 100% \n",
      "numba-0.55.1         | 3.4 MB    | ##################################### | 100% \n",
      "googleapis-common-pr | 129 KB    | ##################################### | 100% \n",
      "jupyter-1.0.0        | 7 KB      | ##################################### | 100% \n",
      "send2trash-1.8.0     | 19 KB     | ##################################### | 100% \n",
      "python-lsp-black-1.2 | 13 KB     | ##################################### | 100% \n",
      "pyhamcrest-2.0.2     | 31 KB     | ##################################### | 100% \n",
      "mccabe-0.7.0         | 11 KB     | ##################################### | 100% \n",
      "google-auth-2.6.0    | 83 KB     | ##################################### | 100% \n",
      "scikit-learn-intelex | 74 KB     | ##################################### | 100% \n",
      "scikit-image-0.19.2  | 9.9 MB    | ##################################### | 100% \n",
      "tbb4py-2021.6.0      | 213 KB    | ##################################### | 100% \n",
      "pyviz_comms-2.0.2    | 23 KB     | ##################################### | 100% \n",
      "panel-0.13.1         | 11.0 MB   | ##################################### | 100% \n",
      "python-snappy-0.6.0  | 29 KB     | ##################################### | 100% \n",
      "libzopfli-1.0.3      | 171 KB    | ##################################### | 100% \n",
      "python-lsp-server-1. | 89 KB     | ##################################### | 100% \n",
      "wget-1.21.3          | 715 KB    | ##################################### | 100% \n",
      "libbrotlidec-1.0.9   | 31 KB     | ##################################### | 100% \n",
      "pillow-9.2.0         | 666 KB    | ##################################### | 100% \n",
      "lxml-4.9.1           | 1.3 MB    | ##################################### | 100% \n",
      "websocket-client-0.5 | 66 KB     | ##################################### | 100% \n",
      "c-ares-1.18.1        | 114 KB    | ##################################### | 100% \n",
      "py-1.11.0            | 76 KB     | ##################################### | 100% \n",
      "zope.interface-5.4.0 | 301 KB    | ##################################### | 100% \n",
      "openpyxl-3.0.10      | 542 KB    | ##################################### | 100% \n",
      "w3lib-1.21.0         | 22 KB     | ##################################### | 100% \n",
      "gmp-6.2.1            | 544 KB    | ##################################### | 100% \n",
      "async-timeout-4.0.2  | 11 KB     | ##################################### | 100% \n",
      "argon2-cffi-bindings | 33 KB     | ##################################### | 100% \n",
      "curl-7.84.0          | 79 KB     | ##################################### | 100% \n",
      "google-cloud-core-2. | 26 KB     | ##################################### | 100% \n",
      "lerc-3.0             | 196 KB    | ##################################### | 100% \n",
      "mkl_random-1.2.2     | 308 KB    | ##################################### | 100% \n",
      "py-lief-0.11.5       | 1.1 MB    | ##################################### | 100% \n",
      "bitarray-2.5.1       | 155 KB    | ##################################### | 100% \n",
      "prometheus_client-0. | 90 KB     | ##################################### | 100% \n",
      "cfitsio-3.470        | 814 KB    | ##################################### | 100% \n",
      "jq-1.6               | 257 KB    | ##################################### | 100% \n",
      "zfp-0.5.5            | 168 KB    | ##################################### | 100% \n",
      "libarchive-3.6.1     | 815 KB    | ##################################### | 100% \n",
      "anaconda-project-0.1 | 496 KB    | ##################################### | 100% \n",
      "_anaconda_depends-20 | 7 KB      | ##################################### | 100% \n",
      "dask-core-2022.2.1   | 747 KB    | ##################################### | 100% \n",
      "qtconsole-5.3.2      | 176 KB    | ##################################### | 100% \n",
      "pip-22.2.2           | 2.3 MB    | ##################################### | 100% \n",
      "argon2-cffi-21.3.0   | 15 KB     | ##################################### | 100% \n",
      "tqdm-4.64.1          | 125 KB    | ##################################### | 100% \n",
      "nose-1.3.7           | 142 KB    | ##################################### | 100% \n",
      "ipywidgets-7.6.5     | 105 KB    | ##################################### | 100% \n",
      "itemloaders-1.0.4    | 14 KB     | ##################################### | 100% \n",
      "libgfortran4-7.5.0   | 995 KB    | ##################################### | 100% \n",
      "ipykernel-6.15.2     | 190 KB    | ##################################### | 100% \n",
      "matplotlib-base-3.5. | 5.7 MB    | ##################################### | 100% \n",
      "daal4py-2021.6.0     | 9.1 MB    | ##################################### | 100% \n",
      "holoviews-1.15.0     | 4.0 MB    | ##################################### | 100% \n",
      "libcrc32c-1.1.1      | 20 KB     | ##################################### | 100% \n",
      "xz-5.2.6             | 394 KB    | ##################################### | 100% \n",
      "munkres-1.1.4        | 13 KB     | ##################################### | 100% \n",
      "libbrotlicommon-1.0. | 70 KB     | ##################################### | 100% \n",
      "msgpack-python-1.0.3 | 83 KB     | ##################################### | 100% \n",
      "asttokens-2.0.5      | 20 KB     | ##################################### | 100% \n",
      "datashape-0.5.4      | 103 KB    | ##################################### | 100% \n",
      "jxrlib-1.1           | 223 KB    | ##################################### | 100% \n",
      "intake-0.6.5         | 178 KB    | ##################################### | 100% \n",
      "libllvm11-11.1.0     | 24.1 MB   | ##################################### | 100% \n",
      "pyasn1-0.4.8         | 54 KB     | ##################################### | 100% \n",
      "twisted-22.2.0       | 4.1 MB    | ##################################### | 100% \n",
      "fonttools-4.25.0     | 632 KB    | ##################################### | 100% \n",
      "scikit-learn-1.0.2   | 5.6 MB    | ##################################### | 100% \n",
      "libev-4.33           | 111 KB    | ##################################### | 100% \n",
      "pyerfa-2.0.0         | 345 KB    | ##################################### | 100% \n",
      "cachetools-4.2.2     | 13 KB     | ##################################### | 100% \n",
      "kiwisolver-1.4.2     | 83 KB     | ##################################### | 100% \n",
      "libcurl-7.84.0       | 337 KB    | ##################################### | 100% \n",
      "olefile-0.46         | 34 KB     | ##################################### | 100% \n",
      "conda-repo-cli-1.0.2 | 107 KB    | ##################################### | 100% \n",
      "certifi-2022.9.24    | 154 KB    | ##################################### | 100% \n",
      "tenacity-8.0.1       | 34 KB     | ##################################### | 100% \n",
      "heapdict-1.0.1       | 8 KB      | ##################################### | 100% \n",
      "pkgutil-resolve-name | 9 KB      | ##################################### | 100% \n",
      "numpy-1.21.5         | 10 KB     | ##################################### | 100% \n",
      "nltk-3.7             | 1010 KB   | ##################################### | 100% \n",
      "qt-main-5.15.2       | 45.1 MB   | ##################################### | 100% \n",
      "partd-1.2.0          | 18 KB     | ##################################### | 100% \n",
      "google-cloud-storage | 119 KB    | ##################################### | 100% \n",
      "mkl-2021.4.0         | 142.6 MB  | ##################################### | 100% \n",
      "statsmodels-0.13.2   | 8.6 MB    | ##################################### | 100% \n",
      "zlib-1.2.12          | 103 KB    | ##################################### | 100% \n",
      "python-fastjsonschem | 230 KB    | ##################################### | 100% \n",
      "jupyterlab-3.4.4     | 3.7 MB    | ##################################### | 100% \n",
      "aiosignal-1.2.0      | 12 KB     | ##################################### | 100% \n",
      "tifffile-2021.7.2    | 135 KB    | ##################################### | 100% \n",
      "sqlite-3.39.3        | 1.1 MB    | ##################################### | 100% \n",
      "tblib-1.7.0          | 15 KB     | ##################################### | 100% \n",
      "grpcio-1.42.0        | 2.1 MB    | ##################################### | 100% \n",
      "constantly-15.1.0    | 10 KB     | ##################################### | 100% \n",
      "itemadapter-0.3.0    | 13 KB     | ##################################### | 100% \n",
      "sqlalchemy-1.4.39    | 1.9 MB    | ##################################### | 100% \n",
      "numpy-base-1.21.5    | 4.9 MB    | ##################################### | 100% \n",
      "toolz-0.11.2         | 49 KB     | ##################################### | 100% \n",
      "libdeflate-1.8       | 51 KB     | ##################################### | 100% \n",
      "pyparsing-3.0.9      | 152 KB    | ##################################### | 100% \n",
      "automat-20.2.0       | 31 KB     | ##################################### | 100% \n",
      "fsspec-2022.7.1      | 207 KB    | ##################################### | 100% \n",
      "pyodbc-4.0.34        | 75 KB     | ##################################### | 100% \n",
      "libwebp-base-1.2.4   | 347 KB    | ##################################### | 100% \n",
      "qt-5.15.9            | 9 KB      | ##################################### | 100% \n",
      "astropy-5.1          | 6.7 MB    | ##################################### | 100% \n",
      "spyder-kernels-2.3.3 | 109 KB    | ##################################### | 100% \n",
      "bkcharts-0.2         | 132 KB    | ##################################### | 100% \n",
      "pandas-1.4.4         | 9.9 MB    | ##################################### | 100% \n",
      "setuptools-63.4.1    | 1.1 MB    | ##################################### | 100% \n",
      "scipy-1.7.3          | 16.6 MB   | ##################################### | 100% \n",
      "frozenlist-1.2.0     | 79 KB     | ##################################### | 100% \n",
      "json5-0.9.6          | 21 KB     | ##################################### | 100% \n",
      "dask-2022.2.1        | 5 KB      | ##################################### | 100% \n",
      "mpi-1.0              | 13 KB     | ##################################### | 100% \n",
      "pep8-1.7.1           | 52 KB     | ##################################### | 100% \n",
      "itsdangerous-2.0.1   | 18 KB     | ##################################### | 100% \n",
      "widgetsnbextension-3 | 651 KB    | ##################################### | 100% \n",
      "xarray-0.20.1        | 563 KB    | ##################################### | 100% \n",
      "pywavelets-1.3.0     | 3.5 MB    | ##################################### | 100% \n",
      "boto3-1.24.28        | 114 KB    | ##################################### | 100% \n",
      "imagecodecs-2021.8.2 | 6.1 MB    | ##################################### | 100% \n",
      "protobuf-3.20.1      | 293 KB    | ##################################### | 100% \n",
      "pkginfo-1.8.2        | 27 KB     | ##################################### | 100% \n",
      "flask-2.1.3          | 129 KB    | ##################################### | 100% \n",
      "libprotobuf-3.20.1   | 2.1 MB    | ##################################### | 100% \n",
      "queuelib-1.5.0       | 258 KB    | ##################################### | 100% \n",
      "cython-0.29.32       | 2.0 MB    | ##################################### | 100% \n",
      "gensim-4.1.2         | 18.3 MB   | ##################################### | 100% \n",
      "mpich-3.3.2          | 3.8 MB    | ##################################### | 100% \n",
      "brotli-1.0.9         | 18 KB     | ##################################### | 100% \n",
      "bokeh-2.4.3          | 7.7 MB    | ##################################### | 100% \n",
      "cssselect-1.1.0      | 18 KB     | ##################################### | 100% \n",
      "joblib-1.1.0         | 211 KB    | ##################################### | 100% \n",
      "s3transfer-0.6.0     | 105 KB    | ##################################### | 100% \n",
      "tldextract-3.2.0     | 81 KB     | ##################################### | 100% \n",
      "unixodbc-2.3.11      | 275 KB    | ##################################### | 100% \n",
      "libnghttp2-1.46.0    | 680 KB    | ##################################### | 100% \n",
      "parsel-1.6.0         | 350 KB    | ##################################### | 100% \n",
      "conda-content-trust- | 70 KB     | ##################################### | 100% \n",
      "patsy-0.5.2          | 276 KB    | ##################################### | 100% \n",
      "bcrypt-3.2.0         | 41 KB     | ##################################### | 100% \n",
      "werkzeug-2.0.3       | 221 KB    | ##################################### | 100% \n",
      "tornado-6.2          | 590 KB    | ##################################### | 100% \n",
      "libtiff-4.4.0        | 471 KB    | ##################################### | 100% \n",
      "dal-2021.6.0         | 35.5 MB   | ##############6                       |  40% \n",
      "sympy-1.10.1         | 9.5 MB    | ##################################### | 100% \n",
      "nbclassic-0.3.5      | 22 KB     | ##################################### | 100% \n",
      "pyqtwebengine-5.15.7 | 159 KB    | ##################################### | 100% \n",
      "black-22.6.0         | 223 KB    | ##################################### | 100% \n",
      "libwebp-1.2.4        | 79 KB     | ##################################### | 100% \n",
      "aiohttp-3.8.1        | 525 KB    | ##################################### | 100% \n",
      "patchelf-0.13        | 85 KB     | ##################################### | 100% \n",
      "plotly-5.9.0         | 4.0 MB    | ##################################### | 100% \n",
      "seaborn-0.11.2       | 218 KB    | ##################################### | 100% \n",
      "numexpr-2.8.3        | 125 KB    | ##################################### | 100% \n",
      "hvplot-0.8.0         | 3.0 MB    | ##################################### | 100% \n",
      "llvmlite-0.38.0      | 2.1 MB    | ##################################### | 100% \n",
      "datashader-0.14.1    | 16.5 MB   | ##################################### | 100% \n",
      "zict-2.1.0           | 20 KB     | ##################################### | 100% \n",
      "ripgrep-13.0.0       | 1.1 MB    | ##################################### | 100% \n",
      "backports-1.1        | 4 KB      | ##################################### | 100% \n",
      "jupyter_server-1.18. | 356 KB    | ##################################### | 100% \n",
      "openjpeg-2.4.0       | 331 KB    | ##################################### | 100% \n",
      "scrapy-2.6.2         | 366 KB    | ##################################### | 100% \n",
      "colorcet-3.0.0       | 1.8 MB    | ##################################### | 100% \n",
      "cycler-0.11.0        | 12 KB     | ##################################### | 100% \n",
      "liblief-0.11.5       | 1.7 MB    | ##################################### | 100% \n",
      "platformdirs-2.5.2   | 23 KB     | ##################################### | 100% \n",
      "pytest-7.1.2         | 448 KB    | ##################################### | 100% \n",
      "anaconda-client-1.11 | 149 KB    | ##################################### | 100% \n",
      "threadpoolctl-2.2.0  | 16 KB     | ##################################### | 100% \n",
      "expat-2.4.9          | 156 KB    | ##################################### | 100% \n",
      "conda-token-0.4.0    | 13 KB     | ##################################### | 100% \n",
      "jsonschema-4.16.0    | 128 KB    | ##################################### | 100% \n",
      "rsa-4.7.2            | 28 KB     | ##################################### | 100% \n",
      "pathlib-1.0.1        | 17 KB     | ##################################### | 100% \n",
      "anyio-3.5.0          | 165 KB    | ##################################### | 100% \n",
      "libgfortran-ng-7.5.0 | 22 KB     | ##################################### | 100% \n",
      "jupyter_console-6.4. | 23 KB     | ##################################### | 100% \n",
      "jmespath-0.10.0      | 22 KB     | ##################################### | 100% \n",
      "pydispatcher-2.0.5   | 20 KB     | ##################################### | 100% \n",
      "tabulate-0.8.10      | 45 KB     | ##################################### | 100% \n",
      "jupyter_client-7.3.5 | 192 KB    | ##################################### | 100% \n",
      "distributed-2022.2.1 | 659 KB    | ##################################### | 100% \n",
      "oniguruma-6.9.7.1    | 244 KB    | ##################################### | 100% \n",
      "pyasn1-modules-0.2.8 | 72 KB     | ##################################### | 100% \n",
      "locket-1.0.0         | 11 KB     | ##################################### | 100% \n"
     ]
    },
    {
     "name": "stdout",
     "output_type": "stream",
     "text": [
      "requests-file-1.5.1  | 8 KB      | ##################################### | 100% \n",
      "conda-package-handli | 887 KB    | ##################################### | 100% \n",
      "matplotlib-3.5.2     | 6 KB      | ##################################### | 100% \n",
      "libaec-1.0.4         | 32 KB     | ##################################### | 100% \n",
      "multidict-6.0.2      | 49 KB     | ##################################### | 100% \n",
      "brotli-bin-1.0.9     | 19 KB     | ##################################### | 100% \n",
      "executing-0.8.3      | 18 KB     | ##################################### | 100% \n",
      "networkx-2.8.4       | 2.2 MB    | ##################################### | 100% \n",
      "jupyter_core-4.11.1  | 76 KB     | ##################################### | 100% \n",
      "whatthepatch-1.0.2   | 22 KB     | ##################################### | 100% \n",
      "service_identity-18. | 13 KB     | ##################################### | 100% \n",
      "nbformat-5.5.0       | 128 KB    | ##################################### | 100% \n",
      "jdcal-1.4.1          | 10 KB     | ##################################### | 100% \n",
      "terminado-0.13.1     | 30 KB     | ##################################### | 100% \n",
      "incremental-21.3.0   | 17 KB     | ##################################### | 100% \n",
      "blosc-1.21.0         | 59 KB     | ##################################### | 100% \n",
      "prompt_toolkit-3.0.2 | 12 KB     | ##################################### | 100% \n",
      "protego-0.1.16       | 2.2 MB    | ##################################### | 100% \n",
      "conda-pack-0.6.0     | 29 KB     | ##################################### | 100% \n",
      "et_xmlfile-1.1.0     | 10 KB     | ##################################### | 100% \n",
      "libbrotlienc-1.0.9   | 264 KB    | ##################################### | 100% \n",
      "dataclasses-0.8      | 8 KB      | ##################################### | 100% \n",
      "pure_eval-0.2.2      | 14 KB     | ##################################### | 100% \n",
      "botocore-1.27.28     | 4.6 MB    | ##################################### | 100% \n",
      "libssh2-1.10.0       | 274 KB    | ##################################### | 100% \n",
      "greenlet-1.1.1       | 82 KB     | ##################################### | 100% \n",
      "intel-openmp-2021.4. | 4.2 MB    | ##################################### | 100% \n",
      "imageio-2.19.3       | 3.2 MB    | ##################################### | 100% \n",
      "pyct-0.4.8           | 29 KB     | ##################################### | 100% \n",
      "bottleneck-1.3.5     | 115 KB    | ##################################### | 100% \n",
      "notebook-6.4.12      | 4.2 MB    | ##################################### | 100% \n",
      "hyperlink-21.0.0     | 70 KB     | ##################################### | 100% \n",
      "conda-22.9.0         | 884 KB    | ##################################### | 100% \n",
      "qtpy-2.2.0           | 84 KB     | ##################################### | 100% \n",
      "gmpy2-2.1.2          | 191 KB    | ##################################### | 100% \n",
      "charls-2.2.0         | 117 KB    | ##################################### | 100% \n",
      "google-api-core-2.10 | 118 KB    | ##################################### | 100% \n",
      "libunistring-0.9.10  | 536 KB    | ##################################### | 100% \n",
      "brunsli-0.1          | 164 KB    | ##################################### | 100% \n",
      "google-crc32c-1.1.2  | 23 KB     | ##################################### | 100% \n",
      "markdown-3.3.4       | 129 KB    | ##################################### | 100% \n",
      "stack_data-0.2.0     | 22 KB     | ##################################### | 100% \n",
      "yarl-1.8.1           | 87 KB     | ##################################### | 100% \n",
      "\n",
      "CondaHTTPError: HTTP 000 CONNECTION FAILED for url <https://repo.anaconda.com/pkgs/main/linux-64/dal-2021.6.0-hdb19cb5_916.conda>\n",
      "Elapsed: -\n",
      "\n",
      "An HTTP error occurred when trying to retrieve this URL.\n",
      "HTTP errors are often intermittent, and a simple retry will get you on your way.\n",
      "\n",
      "\n",
      "\n",
      "Note: you may need to restart the kernel to use updated packages.\n"
     ]
    }
   ],
   "source": [
    "conda update conda"
   ]
  },
  {
   "cell_type": "code",
   "execution_count": 60,
   "id": "a75d6a64",
   "metadata": {},
   "outputs": [
    {
     "name": "stdout",
     "output_type": "stream",
     "text": [
      "Collecting package metadata (current_repodata.json): done\n",
      "Solving environment: done\n",
      "\n",
      "## Package Plan ##\n",
      "\n",
      "  environment location: /home/miracle/anaconda3\n",
      "\n",
      "  added / updated specs:\n",
      "    - scikit-learn=1.0.2\n",
      "\n",
      "\n",
      "The following NEW packages will be INSTALLED:\n",
      "\n",
      "  _openmp_mutex      pkgs/main/linux-64::_openmp_mutex-5.1-1_gnu\n",
      "  libgomp            pkgs/main/linux-64::libgomp-11.2.0-h1234567_1\n",
      "\n",
      "The following packages will be UPDATED:\n",
      "\n",
      "  certifi                          2022.6.15-py38h06a4308_0 --> 2022.9.24-py38h06a4308_0\n",
      "  conda                               4.12.0-py38h06a4308_0 --> 22.9.0-py38h06a4308_0\n",
      "  scikit-learn                        0.24.1-py38ha9443f7_0 --> 1.0.2-py38h51133e4_1\n",
      "\n",
      "\n",
      "Preparing transaction: done\n",
      "Verifying transaction: done\n",
      "Executing transaction: \\ \n",
      "\n",
      "    Installed package of scikit-learn can be accelerated using scikit-learn-intelex.\n",
      "    More details are available here: https://intel.github.io/scikit-learn-intelex\n",
      "\n",
      "    For example:\n",
      "\n",
      "        $ conda install scikit-learn-intelex\n",
      "        $ python -m sklearnex my_application.py\n",
      "\n",
      "    \n",
      "\n",
      "done\n",
      "\n",
      "Note: you may need to restart the kernel to use updated packages.\n"
     ]
    }
   ],
   "source": [
    "conda install scikit-learn=1.0.2\n"
   ]
  },
  {
   "cell_type": "code",
   "execution_count": 51,
   "id": "d5156a5e",
   "metadata": {},
   "outputs": [
    {
     "name": "stdout",
     "output_type": "stream",
     "text": [
      "Collecting streamlit\n",
      "  Using cached streamlit-1.13.0-py2.py3-none-any.whl (9.2 MB)\n",
      "Collecting pyarrow>=4.0\n",
      "  Using cached pyarrow-9.0.0-cp38-cp38-manylinux_2_17_x86_64.manylinux2014_x86_64.whl (35.3 MB)\n",
      "Requirement already satisfied: toml in /home/miracle/anaconda3/lib/python3.8/site-packages (from streamlit) (0.10.2)\n",
      "Collecting pydeck>=0.1.dev5\n",
      "  Downloading pydeck-0.8.0b4-py2.py3-none-any.whl (4.7 MB)\n",
      "\u001b[K     |████████████████████████████████| 4.7 MB 1.2 MB/s eta 0:00:01     |█████████████▎                  | 2.0 MB 369 kB/s eta 0:00:08\n",
      "\u001b[?25hCollecting typing-extensions>=3.10.0.0\n",
      "  Downloading typing_extensions-4.4.0-py3-none-any.whl (26 kB)\n",
      "Collecting semver\n",
      "  Using cached semver-2.13.0-py2.py3-none-any.whl (12 kB)\n",
      "Requirement already satisfied: python-dateutil in /home/miracle/anaconda3/lib/python3.8/site-packages (from streamlit) (2.8.1)\n",
      "Requirement already satisfied: pillow>=6.2.0 in /home/miracle/anaconda3/lib/python3.8/site-packages (from streamlit) (8.2.0)\n",
      "Requirement already satisfied: cachetools>=4.0 in /home/miracle/anaconda3/lib/python3.8/site-packages (from streamlit) (4.2.2)\n",
      "Requirement already satisfied: pandas>=0.21.0 in /home/miracle/anaconda3/lib/python3.8/site-packages (from streamlit) (1.2.4)\n",
      "Collecting rich>=10.11.0\n",
      "  Downloading rich-12.6.0-py3-none-any.whl (237 kB)\n",
      "\u001b[K     |████████████████████████████████| 237 kB 1.5 MB/s eta 0:00:01\n",
      "\u001b[?25hRequirement already satisfied: packaging>=14.1 in /home/miracle/anaconda3/lib/python3.8/site-packages (from streamlit) (20.9)\n",
      "Requirement already satisfied: watchdog in /home/miracle/anaconda3/lib/python3.8/site-packages (from streamlit) (1.0.2)\n",
      "Requirement already satisfied: numpy in /home/miracle/anaconda3/lib/python3.8/site-packages (from streamlit) (1.20.1)\n",
      "Collecting tzlocal>=1.1\n",
      "  Using cached tzlocal-4.2-py3-none-any.whl (19 kB)\n",
      "Collecting validators>=0.2\n",
      "  Using cached validators-0.20.0-py3-none-any.whl\n",
      "Collecting gitpython!=3.1.19\n",
      "  Downloading GitPython-3.1.29-py3-none-any.whl (182 kB)\n",
      "\u001b[K     |████████████████████████████████| 182 kB 7.7 MB/s eta 0:00:01\n",
      "\u001b[?25hRequirement already satisfied: importlib-metadata>=1.4 in /home/miracle/anaconda3/lib/python3.8/site-packages (from streamlit) (3.10.0)\n",
      "Requirement already satisfied: click>=7.0 in /home/miracle/anaconda3/lib/python3.8/site-packages (from streamlit) (7.1.2)\n",
      "Requirement already satisfied: requests>=2.4 in /home/miracle/anaconda3/lib/python3.8/site-packages (from streamlit) (2.25.1)\n",
      "Requirement already satisfied: protobuf!=3.20.2,<4,>=3.12 in /home/miracle/anaconda3/lib/python3.8/site-packages (from streamlit) (3.17.3)\n",
      "Collecting blinker>=1.0.0\n",
      "  Using cached blinker-1.5-py2.py3-none-any.whl (12 kB)\n",
      "Collecting altair>=3.2.0\n",
      "  Using cached altair-4.2.0-py3-none-any.whl (812 kB)\n",
      "Collecting pympler>=0.9\n",
      "  Using cached Pympler-1.0.1-py3-none-any.whl (164 kB)\n",
      "Requirement already satisfied: tornado>=5.0 in /home/miracle/anaconda3/lib/python3.8/site-packages (from streamlit) (6.1)\n",
      "Requirement already satisfied: toolz in /home/miracle/anaconda3/lib/python3.8/site-packages (from altair>=3.2.0->streamlit) (0.11.1)\n",
      "Requirement already satisfied: jinja2 in /home/miracle/anaconda3/lib/python3.8/site-packages (from altair>=3.2.0->streamlit) (2.11.3)\n",
      "Requirement already satisfied: jsonschema>=3.0 in /home/miracle/anaconda3/lib/python3.8/site-packages (from altair>=3.2.0->streamlit) (3.2.0)\n",
      "Requirement already satisfied: entrypoints in /home/miracle/anaconda3/lib/python3.8/site-packages (from altair>=3.2.0->streamlit) (0.3)\n",
      "Collecting gitdb<5,>=4.0.1\n",
      "  Using cached gitdb-4.0.9-py3-none-any.whl (63 kB)\n",
      "Collecting smmap<6,>=3.0.1\n",
      "  Using cached smmap-5.0.0-py3-none-any.whl (24 kB)\n",
      "Requirement already satisfied: zipp>=0.5 in /home/miracle/anaconda3/lib/python3.8/site-packages (from importlib-metadata>=1.4->streamlit) (3.4.1)\n",
      "Requirement already satisfied: pyrsistent>=0.14.0 in /home/miracle/anaconda3/lib/python3.8/site-packages (from jsonschema>=3.0->altair>=3.2.0->streamlit) (0.17.3)\n",
      "Requirement already satisfied: setuptools in /home/miracle/anaconda3/lib/python3.8/site-packages (from jsonschema>=3.0->altair>=3.2.0->streamlit) (52.0.0.post20210125)\n",
      "Requirement already satisfied: six>=1.11.0 in /home/miracle/anaconda3/lib/python3.8/site-packages (from jsonschema>=3.0->altair>=3.2.0->streamlit) (1.15.0)\n",
      "Requirement already satisfied: attrs>=17.4.0 in /home/miracle/anaconda3/lib/python3.8/site-packages (from jsonschema>=3.0->altair>=3.2.0->streamlit) (20.3.0)\n",
      "Requirement already satisfied: pyparsing>=2.0.2 in /home/miracle/anaconda3/lib/python3.8/site-packages (from packaging>=14.1->streamlit) (2.4.7)\n",
      "Requirement already satisfied: pytz>=2017.3 in /home/miracle/anaconda3/lib/python3.8/site-packages (from pandas>=0.21.0->streamlit) (2021.1)\n",
      "Requirement already satisfied: MarkupSafe>=0.23 in /home/miracle/anaconda3/lib/python3.8/site-packages (from jinja2->altair>=3.2.0->streamlit) (1.1.1)\n",
      "Requirement already satisfied: chardet<5,>=3.0.2 in /home/miracle/anaconda3/lib/python3.8/site-packages (from requests>=2.4->streamlit) (4.0.0)\n",
      "Requirement already satisfied: idna<3,>=2.5 in /home/miracle/anaconda3/lib/python3.8/site-packages (from requests>=2.4->streamlit) (2.10)\n",
      "Requirement already satisfied: certifi>=2017.4.17 in /home/miracle/anaconda3/lib/python3.8/site-packages (from requests>=2.4->streamlit) (2022.9.24)\n",
      "Requirement already satisfied: urllib3<1.27,>=1.21.1 in /home/miracle/anaconda3/lib/python3.8/site-packages (from requests>=2.4->streamlit) (1.26.4)\n",
      "Collecting commonmark<0.10.0,>=0.9.0\n",
      "  Using cached commonmark-0.9.1-py2.py3-none-any.whl (51 kB)\n",
      "Requirement already satisfied: pygments<3.0.0,>=2.6.0 in /home/miracle/anaconda3/lib/python3.8/site-packages (from rich>=10.11.0->streamlit) (2.8.1)\n",
      "Collecting pytz-deprecation-shim\n",
      "  Using cached pytz_deprecation_shim-0.1.0.post0-py2.py3-none-any.whl (15 kB)\n",
      "Collecting backports.zoneinfo\n",
      "  Using cached backports.zoneinfo-0.2.1-cp38-cp38-manylinux1_x86_64.whl (74 kB)\n",
      "Requirement already satisfied: decorator>=3.4.0 in /home/miracle/anaconda3/lib/python3.8/site-packages (from validators>=0.2->streamlit) (5.0.6)\n",
      "Collecting tzdata\n",
      "  Downloading tzdata-2022.5-py2.py3-none-any.whl (336 kB)\n",
      "\u001b[K     |████████████████████████████████| 336 kB 6.1 MB/s eta 0:00:01\n",
      "\u001b[?25hInstalling collected packages: tzdata, smmap, backports.zoneinfo, typing-extensions, pytz-deprecation-shim, gitdb, commonmark, validators, tzlocal, semver, rich, pympler, pydeck, pyarrow, gitpython, blinker, altair, streamlit\n",
      "  Attempting uninstall: typing-extensions\n",
      "    Found existing installation: typing-extensions 3.7.4.3\n",
      "    Uninstalling typing-extensions-3.7.4.3:\n",
      "      Successfully uninstalled typing-extensions-3.7.4.3\n",
      "\u001b[31mERROR: pip's dependency resolver does not currently take into account all the packages that are installed. This behaviour is the source of the following dependency conflicts.\n",
      "tensorflow 2.5.0 requires numpy~=1.19.2, but you have numpy 1.20.1 which is incompatible.\n",
      "tensorflow 2.5.0 requires typing-extensions~=3.7.4, but you have typing-extensions 4.4.0 which is incompatible.\u001b[0m\n",
      "Successfully installed altair-4.2.0 backports.zoneinfo-0.2.1 blinker-1.5 commonmark-0.9.1 gitdb-4.0.9 gitpython-3.1.29 pyarrow-9.0.0 pydeck-0.8.0b4 pympler-1.0.1 pytz-deprecation-shim-0.1.0.post0 rich-12.6.0 semver-2.13.0 smmap-5.0.0 streamlit-1.13.0 typing-extensions-4.4.0 tzdata-2022.5 tzlocal-4.2 validators-0.20.0\n",
      "Note: you may need to restart the kernel to use updated packages.\n"
     ]
    }
   ],
   "source": [
    "pip install streamlit"
   ]
  },
  {
   "cell_type": "code",
   "execution_count": null,
   "id": "ed2eec04",
   "metadata": {},
   "outputs": [],
   "source": [
    "plt.scatter()"
   ]
  }
 ],
 "metadata": {
  "kernelspec": {
   "display_name": "Python 3",
   "language": "python",
   "name": "python3"
  },
  "language_info": {
   "codemirror_mode": {
    "name": "ipython",
    "version": 3
   },
   "file_extension": ".py",
   "mimetype": "text/x-python",
   "name": "python",
   "nbconvert_exporter": "python",
   "pygments_lexer": "ipython3",
   "version": "3.8.8"
  }
 },
 "nbformat": 4,
 "nbformat_minor": 5
}
